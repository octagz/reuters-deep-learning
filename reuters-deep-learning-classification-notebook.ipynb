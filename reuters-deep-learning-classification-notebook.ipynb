{
  "nbformat": 4,
  "nbformat_minor": 2,
  "metadata": {
    "colab": {
      "provenance": []
    },
    "kernelspec": {
      "name": "python3",
      "display_name": "Python 3"
    },
    "language_info": {
      "name": "python"
    }
  },
  "cells": [
    {
      "cell_type": "markdown",
      "source": [
        "# Clasificación multi-clase usando redes neuronales\n",
        "\n",
        "En esta pregunta, experimentará con una red neuronal en el contexto de clasificación de textos, donde un documento puede pertenecer a una de varias categorías posibles. El objetivo principal es que prueben diferentes hiperparámetros de manera sistemática para que propongan una configuración de red que esté debidamente justificada. Experimentará con el conjunto de datos de Reuters, que se puede cargar directamente desde Keras:"
      ],
      "metadata": {
        "id": "D0dx5dplSOq9"
      }
    },
    {
      "cell_type": "code",
      "execution_count": 3,
      "source": [
        "from keras.datasets import reuters\n",
        "(train_data, train_labels), (val_data, val_labels) = reuters.load_data(num_words=10000)\n",
        "(viz_train_data, viz_train_labels), (val_data, val_labels) = reuters.load_data(num_words=10000)"
      ],
      "outputs": [
        {
          "output_type": "stream",
          "name": "stdout",
          "text": [
            "Downloading data from https://storage.googleapis.com/tensorflow/tf-keras-datasets/reuters.npz\n",
            "2110848/2110848 [==============================] - 0s 0us/step\n"
          ]
        }
      ],
      "metadata": {
        "id": "P6yRB8yOt8ue",
        "colab": {
          "base_uri": "https://localhost:8080/"
        },
        "outputId": "d3b1c372-7342-4f50-ae8f-26bab59f4f05"
      }
    },
    {
      "cell_type": "markdown",
      "source": [
        "Este dataset tiene 11228 noticias las cuales pertenecen a una de 46 categorías posibles. \n",
        "Transformamos las etiquetas para que en lugar de que tengan un id de categoría, tengan un vector one-hot (pueden ver los contenidos de train_labels antes y después de la transformación)"
      ],
      "metadata": {
        "id": "PpSCnt1ouvll"
      }
    },
    {
      "cell_type": "code",
      "execution_count": 4,
      "source": [
        "from keras.utils import to_categorical\n",
        "\n",
        "train_labels = to_categorical(train_labels)\n",
        "val_labels = to_categorical(val_labels)\n",
        "train_labels.shape"
      ],
      "outputs": [
        {
          "output_type": "execute_result",
          "data": {
            "text/plain": [
              "(8982, 46)"
            ]
          },
          "metadata": {},
          "execution_count": 4
        }
      ],
      "metadata": {
        "id": "F8OwjA1Ku4IV",
        "colab": {
          "base_uri": "https://localhost:8080/"
        },
        "outputId": "afc2a85b-2a4c-43e5-d797-0cfbf8550c16"
      }
    },
    {
      "cell_type": "markdown",
      "source": [
        "Cada documento está descripto por una lista que contiene los ids de las palabras que contine. Procesaremos todos los documentos formando una matriz en donde cada fila será un documento y cada columna una palabra. En cada celda (*i,j*) tendremos un 1 o un 0 dependiendo si la palabra *j* de esa columna aparece en el documento de esa fila *i*. Pueden ver los contenidos de train_data antes y después de la transformación."
      ],
      "metadata": {
        "id": "o_wHFCa1wl42"
      }
    },
    {
      "cell_type": "code",
      "execution_count": 5,
      "source": [
        "import numpy as np"
      ],
      "outputs": [],
      "metadata": {
        "id": "zcgBu8114EEP"
      }
    },
    {
      "cell_type": "code",
      "execution_count": 6,
      "source": [
        "def vectorize_data(data, features=10000):\n",
        "    vectorized_data = np.zeros((len(data), features))\n",
        "    for i, data_instance in enumerate(data):\n",
        "        vectorized_data[i, data_instance] = 1\n",
        "    return vectorized_data\n",
        "\n",
        "train_data = vectorize_data(train_data)\n",
        "val_data = vectorize_data(val_data)"
      ],
      "outputs": [],
      "metadata": {
        "id": "_y3lLNVVwmY-"
      }
    },
    {
      "cell_type": "markdown",
      "source": [
        "## Experimentación con múltiples hiperparámetros.\n",
        "\n",
        "Construya una red neuronal para el problema en cuestión. Pruebe con diferentes hiperparámetros y reporte la mejor performance encontrada. Los hiperparámetros más importantes para esta pregunta son: número de capas, cantidad de nodos por capa, learning rate y número de épocas."
      ],
      "metadata": {
        "id": "0_xRl8-Tx9gV"
      }
    },
    {
      "cell_type": "markdown",
      "source": [
        "**Consejo**: Intente modularizar el código para poder realizar los experimentos de forma ordenada."
      ],
      "metadata": {
        "id": "EZQVWA881Uf8"
      }
    },
    {
      "cell_type": "code",
      "execution_count": 8,
      "source": [
        "from tensorflow.keras import models\n",
        "from tensorflow.keras import layers\n",
        "\n",
        "num_of_features = 10000\n",
        "num_of_categories = 46\n",
        "\n",
        "input_tensor = layers.Input(shape=(num_of_features,))\n",
        "x = layers.Dense(32, activation='relu')(input_tensor)\n",
        "output_tensor = layers.Dense(num_of_categories, activation='softmax')(x)\n",
        "\n",
        "model = models.Model(inputs=input_tensor, outputs=output_tensor)\n",
        "model.compile(optimizer='rmsprop', # ej, descenso de gradiente\n",
        "                loss='categorical_crossentropy',\n",
        "                metrics=['accuracy'])"
      ],
      "outputs": [],
      "metadata": {
        "id": "qnIaf4Rt1TmG"
      }
    },
    {
      "cell_type": "code",
      "execution_count": 9,
      "source": [
        "print(train_data.shape)\n",
        "print(train_labels.shape)"
      ],
      "outputs": [
        {
          "output_type": "stream",
          "name": "stdout",
          "text": [
            "(8982, 10000)\n",
            "(8982, 46)\n"
          ]
        }
      ],
      "metadata": {
        "colab": {
          "base_uri": "https://localhost:8080/"
        },
        "id": "vnceFpz1Iicd",
        "outputId": "dbf64e7f-a82e-4b0b-99cc-922d2f3a9db0"
      }
    },
    {
      "cell_type": "code",
      "execution_count": 10,
      "source": [
        "model.fit(train_data, train_labels, epochs=5, batch_size=128)"
      ],
      "outputs": [
        {
          "output_type": "stream",
          "name": "stdout",
          "text": [
            "Epoch 1/5\n",
            "71/71 [==============================] - 2s 21ms/step - loss: 2.0866 - accuracy: 0.6123\n",
            "Epoch 2/5\n",
            "71/71 [==============================] - 2s 21ms/step - loss: 1.1240 - accuracy: 0.7660\n",
            "Epoch 3/5\n",
            "71/71 [==============================] - 1s 14ms/step - loss: 0.8294 - accuracy: 0.8261\n",
            "Epoch 4/5\n",
            "71/71 [==============================] - 1s 14ms/step - loss: 0.6431 - accuracy: 0.8663\n",
            "Epoch 5/5\n",
            "71/71 [==============================] - 1s 15ms/step - loss: 0.5094 - accuracy: 0.8941\n"
          ]
        },
        {
          "output_type": "execute_result",
          "data": {
            "text/plain": [
              "<keras.callbacks.History at 0x7ff10ed63c90>"
            ]
          },
          "metadata": {},
          "execution_count": 10
        }
      ],
      "metadata": {
        "colab": {
          "base_uri": "https://localhost:8080/"
        },
        "id": "cKO9JHV1Etq6",
        "outputId": "68abb1b4-d74b-4d6d-d9c9-e3b1beaa2adf"
      }
    },
    {
      "cell_type": "code",
      "execution_count": 11,
      "source": [
        "test_loss, test_acc = model.evaluate(val_data, val_labels)\n",
        "print('test_acc: ', test_acc)\n",
        "print('test_loss:', test_loss)"
      ],
      "outputs": [
        {
          "output_type": "stream",
          "name": "stdout",
          "text": [
            "71/71 [==============================] - 0s 3ms/step - loss: 0.8892 - accuracy: 0.7930\n",
            "test_acc:  0.792965292930603\n",
            "test_loss: 0.8891912698745728\n"
          ]
        }
      ],
      "metadata": {
        "colab": {
          "base_uri": "https://localhost:8080/"
        },
        "id": "QV6pT_20KX4N",
        "outputId": "c4ce4534-3f06-46f2-96d4-e3d0938ab371"
      }
    },
    {
      "cell_type": "code",
      "execution_count": 16,
      "source": [
        "from tensorflow import random\n",
        "\n",
        "def train_and_test_net(n_feat:int,\n",
        "                       n_cat:int,\n",
        "                       train_data,\n",
        "                       train_lab,\n",
        "                       test_data,\n",
        "                       test_lab,\n",
        "                       layers_conf:[],\n",
        "                       epocs:int,\n",
        "                       batch_size:int,\n",
        "                       optimizer,\n",
        "                       loss:str,\n",
        "                       metrics:[],\n",
        "                       activation:str,\n",
        "                       seed:int = 55\n",
        "                       ):\n",
        "    random.set_seed(seed)\n",
        "    layers_ = [layers.Input(shape=(num_of_features,))]\n",
        "    for i, l_conf in enumerate(layers_conf):\n",
        "        if l_conf[\"activation\"] == \"leakyrelu\":\n",
        "            x = layers.Dense(l_conf[\"nodes\"])(layers_[i])\n",
        "            x = layers.LeakyReLU(alpha=0.3)(x)\n",
        "            layers_.append(x)\n",
        "        else:\n",
        "            if l_conf.get(\"dropout\"): \n",
        "                x = layers.Dense(\n",
        "                    l_conf[\"nodes\"],\n",
        "                    activation=l_conf[\"activation\"],\n",
        "                    kernel_regularizer=l_conf.get(\"kernel_regularizer\")\n",
        "                    )(layers_[i])\n",
        "                x = layers.Dropout(rate=l_conf[\"dropout\"])(x)\n",
        "                layers_.append(x)\n",
        "            else:\n",
        "                layers_.append(layers.Dense(\n",
        "                    l_conf[\"nodes\"],\n",
        "                    activation=l_conf[\"activation\"],\n",
        "                    kernel_regularizer=l_conf.get(\"kernel_regularizer\")\n",
        "                    )(layers_[i]))\n",
        "    output_tensor = layers.Dense(num_of_categories, activation=activation)(layers_[-1])\n",
        "\n",
        "    model = models.Model(inputs=layers_[0], outputs=output_tensor)\n",
        "    model.compile(optimizer=optimizer, # ej, descenso de gradiente\n",
        "                    loss=loss,\n",
        "                    metrics=metrics)\n",
        "    history = model.fit(train_data, train_lab, epochs=epocs, batch_size=batch_size, verbose=False, validation_data=(test_data, test_lab))\n",
        "    test_loss, test_acc = model.evaluate(test_data, test_lab)\n",
        "    args_selected = locals()\n",
        "    ignore_args = [\"n_feat\",\"n_cat\", \"train_data\", \"train_lab\", \"test_data\", \"test_lab\"]\n",
        "    args_selected = [{k:v} for k,v in args_selected.items() if k not in ignore_args]\n",
        "    print(f\"Argumentos seleccionados: {args_selected}\")\n",
        "    print('test_acc:', test_acc)\n",
        "    print('test_loss:', test_loss)\n",
        "    print('----------------------')\n",
        "    return history\n"
      ],
      "outputs": [],
      "metadata": {
        "id": "iUm1fD6MKuIu"
      }
    },
    {
      "cell_type": "code",
      "execution_count": 15,
      "source": [
        "for nr_seed in [1,10,100,1000,5,55,85]:\n",
        "    train_and_test_net(num_of_features,\n",
        "                    num_of_categories,\n",
        "                    train_data,\n",
        "                    train_labels,\n",
        "                    val_data,\n",
        "                    val_labels,\n",
        "                    layers_conf=[{\n",
        "                        \"nodes\":32,\n",
        "                            \"activation\": \"relu\"\n",
        "                    }],\n",
        "                    epocs=10,\n",
        "                    batch_size=128,\n",
        "                    optimizer=\"rmsprop\",\n",
        "                    loss=\"categorical_crossentropy\",\n",
        "                    metrics=[\"accuracy\"],\n",
        "                    activation=\"softmax\",\n",
        "                    seed=nr_seed\n",
        "                    )"
      ],
      "outputs": [
        {
          "output_type": "stream",
          "name": "stdout",
          "text": [
            "71/71 [==============================] - 0s 3ms/step - loss: 0.9458 - accuracy: 0.8001\n",
            "Argumentos seleccionados: [{'layers_conf': [{'nodes': 32, 'activation': 'relu'}]}, {'epocs': 10}, {'batch_size': 128}, {'optimizer': 'rmsprop'}, {'loss': 'categorical_crossentropy'}, {'metrics': ['accuracy']}, {'activation': 'softmax'}, {'seed': 1}, {'layers_': [<KerasTensor: shape=(None, 10000) dtype=float32 (created by layer 'input_4')>, <KerasTensor: shape=(None, 32) dtype=float32 (created by layer 'dense_8')>]}, {'i': 0}, {'l_conf': {'nodes': 32, 'activation': 'relu'}}, {'output_tensor': <KerasTensor: shape=(None, 46) dtype=float32 (created by layer 'dense_9')>}, {'model': <keras.engine.functional.Functional object at 0x7ff111b4ff90>}, {'history': <keras.callbacks.History object at 0x7ff11198fa90>}, {'test_loss': 0.9458430409431458}, {'test_acc': 0.8000890612602234}]\n",
            "test_acc: 0.8000890612602234\n",
            "test_loss: 0.9458430409431458\n",
            "----------------------\n",
            "71/71 [==============================] - 0s 3ms/step - loss: 0.9059 - accuracy: 0.8005\n",
            "Argumentos seleccionados: [{'layers_conf': [{'nodes': 32, 'activation': 'relu'}]}, {'epocs': 10}, {'batch_size': 128}, {'optimizer': 'rmsprop'}, {'loss': 'categorical_crossentropy'}, {'metrics': ['accuracy']}, {'activation': 'softmax'}, {'seed': 10}, {'layers_': [<KerasTensor: shape=(None, 10000) dtype=float32 (created by layer 'input_5')>, <KerasTensor: shape=(None, 32) dtype=float32 (created by layer 'dense_10')>]}, {'i': 0}, {'l_conf': {'nodes': 32, 'activation': 'relu'}}, {'output_tensor': <KerasTensor: shape=(None, 46) dtype=float32 (created by layer 'dense_11')>}, {'model': <keras.engine.functional.Functional object at 0x7ff10ff9cc90>}, {'history': <keras.callbacks.History object at 0x7ff112926d10>}, {'test_loss': 0.9059389233589172}, {'test_acc': 0.8005343079566956}]\n",
            "test_acc: 0.8005343079566956\n",
            "test_loss: 0.9059389233589172\n",
            "----------------------\n",
            "71/71 [==============================] - 0s 4ms/step - loss: 0.9240 - accuracy: 0.8077\n",
            "Argumentos seleccionados: [{'layers_conf': [{'nodes': 32, 'activation': 'relu'}]}, {'epocs': 10}, {'batch_size': 128}, {'optimizer': 'rmsprop'}, {'loss': 'categorical_crossentropy'}, {'metrics': ['accuracy']}, {'activation': 'softmax'}, {'seed': 100}, {'layers_': [<KerasTensor: shape=(None, 10000) dtype=float32 (created by layer 'input_6')>, <KerasTensor: shape=(None, 32) dtype=float32 (created by layer 'dense_12')>]}, {'i': 0}, {'l_conf': {'nodes': 32, 'activation': 'relu'}}, {'output_tensor': <KerasTensor: shape=(None, 46) dtype=float32 (created by layer 'dense_13')>}, {'model': <keras.engine.functional.Functional object at 0x7ff1129545d0>}, {'history': <keras.callbacks.History object at 0x7ff1120705d0>}, {'test_loss': 0.924045205116272}, {'test_acc': 0.8076580762863159}]\n",
            "test_acc: 0.8076580762863159\n",
            "test_loss: 0.924045205116272\n",
            "----------------------\n",
            "71/71 [==============================] - 0s 4ms/step - loss: 0.9259 - accuracy: 0.8014\n",
            "Argumentos seleccionados: [{'layers_conf': [{'nodes': 32, 'activation': 'relu'}]}, {'epocs': 10}, {'batch_size': 128}, {'optimizer': 'rmsprop'}, {'loss': 'categorical_crossentropy'}, {'metrics': ['accuracy']}, {'activation': 'softmax'}, {'seed': 1000}, {'layers_': [<KerasTensor: shape=(None, 10000) dtype=float32 (created by layer 'input_7')>, <KerasTensor: shape=(None, 32) dtype=float32 (created by layer 'dense_14')>]}, {'i': 0}, {'l_conf': {'nodes': 32, 'activation': 'relu'}}, {'output_tensor': <KerasTensor: shape=(None, 46) dtype=float32 (created by layer 'dense_15')>}, {'model': <keras.engine.functional.Functional object at 0x7ff111cf1590>}, {'history': <keras.callbacks.History object at 0x7ff111cd9610>}, {'test_loss': 0.9258744120597839}, {'test_acc': 0.8014247417449951}]\n",
            "test_acc: 0.8014247417449951\n",
            "test_loss: 0.9258744120597839\n",
            "----------------------\n",
            "71/71 [==============================] - 0s 4ms/step - loss: 0.9141 - accuracy: 0.8019\n",
            "Argumentos seleccionados: [{'layers_conf': [{'nodes': 32, 'activation': 'relu'}]}, {'epocs': 10}, {'batch_size': 128}, {'optimizer': 'rmsprop'}, {'loss': 'categorical_crossentropy'}, {'metrics': ['accuracy']}, {'activation': 'softmax'}, {'seed': 5}, {'layers_': [<KerasTensor: shape=(None, 10000) dtype=float32 (created by layer 'input_8')>, <KerasTensor: shape=(None, 32) dtype=float32 (created by layer 'dense_16')>]}, {'i': 0}, {'l_conf': {'nodes': 32, 'activation': 'relu'}}, {'output_tensor': <KerasTensor: shape=(None, 46) dtype=float32 (created by layer 'dense_17')>}, {'model': <keras.engine.functional.Functional object at 0x7ff110182e50>}, {'history': <keras.callbacks.History object at 0x7ff10e9e2290>}, {'test_loss': 0.9141332507133484}, {'test_acc': 0.8018699884414673}]\n",
            "test_acc: 0.8018699884414673\n",
            "test_loss: 0.9141332507133484\n",
            "----------------------\n",
            "71/71 [==============================] - 0s 3ms/step - loss: 0.9065 - accuracy: 0.8077\n",
            "Argumentos seleccionados: [{'layers_conf': [{'nodes': 32, 'activation': 'relu'}]}, {'epocs': 10}, {'batch_size': 128}, {'optimizer': 'rmsprop'}, {'loss': 'categorical_crossentropy'}, {'metrics': ['accuracy']}, {'activation': 'softmax'}, {'seed': 55}, {'layers_': [<KerasTensor: shape=(None, 10000) dtype=float32 (created by layer 'input_9')>, <KerasTensor: shape=(None, 32) dtype=float32 (created by layer 'dense_18')>]}, {'i': 0}, {'l_conf': {'nodes': 32, 'activation': 'relu'}}, {'output_tensor': <KerasTensor: shape=(None, 46) dtype=float32 (created by layer 'dense_19')>}, {'model': <keras.engine.functional.Functional object at 0x7ff111136550>}, {'history': <keras.callbacks.History object at 0x7ff1100402d0>}, {'test_loss': 0.9065453410148621}, {'test_acc': 0.8076580762863159}]\n",
            "test_acc: 0.8076580762863159\n",
            "test_loss: 0.9065453410148621\n",
            "----------------------\n",
            "71/71 [==============================] - 0s 4ms/step - loss: 0.9179 - accuracy: 0.8045\n",
            "Argumentos seleccionados: [{'layers_conf': [{'nodes': 32, 'activation': 'relu'}]}, {'epocs': 10}, {'batch_size': 128}, {'optimizer': 'rmsprop'}, {'loss': 'categorical_crossentropy'}, {'metrics': ['accuracy']}, {'activation': 'softmax'}, {'seed': 85}, {'layers_': [<KerasTensor: shape=(None, 10000) dtype=float32 (created by layer 'input_10')>, <KerasTensor: shape=(None, 32) dtype=float32 (created by layer 'dense_20')>]}, {'i': 0}, {'l_conf': {'nodes': 32, 'activation': 'relu'}}, {'output_tensor': <KerasTensor: shape=(None, 46) dtype=float32 (created by layer 'dense_21')>}, {'model': <keras.engine.functional.Functional object at 0x7ff110a18590>}, {'history': <keras.callbacks.History object at 0x7ff1110ac650>}, {'test_loss': 0.917939305305481}, {'test_acc': 0.8045414090156555}]\n",
            "test_acc: 0.8045414090156555\n",
            "test_loss: 0.917939305305481\n",
            "----------------------\n"
          ]
        }
      ],
      "metadata": {
        "colab": {
          "base_uri": "https://localhost:8080/"
        },
        "id": "9igNc_U1XHk0",
        "outputId": "41e0d785-eb16-483a-888a-4e3d6ed1dfcf"
      }
    },
    {
      "cell_type": "markdown",
      "source": [
        "La semilla nro 55 nos da la mejor combinación de accuracy y de test loss.\n",
        "Se agrega como valor por defecto en la función \"train_and_test_net\"."
      ],
      "metadata": {
        "id": "JgwAVSTqwRml"
      }
    },
    {
      "cell_type": "code",
      "execution_count": 17,
      "source": [
        "# Probando diferentes números de capas\n",
        "combinations = [\n",
        "    {\n",
        "        \"layers_conf\":[{ \"nodes\":32, \"activation\": \"relu\"}],\n",
        "        \"epocs\": 10,\n",
        "        \"batch_size\": 128,\n",
        "        \"optimizer\": \"rmsprop\",\n",
        "        \"loss\": \"categorical_crossentropy\",\n",
        "        \"metrics\": [\"accuracy\"],\n",
        "        \"activation\": \"softmax\"\n",
        "    },\n",
        "    {\n",
        "        \"layers_conf\":[{ \"nodes\":32, \"activation\": \"relu\"}, { \"nodes\":32, \"activation\": \"relu\"}],\n",
        "        \"epocs\": 10,\n",
        "        \"batch_size\": 128,\n",
        "        \"optimizer\": \"rmsprop\",\n",
        "        \"loss\": \"categorical_crossentropy\",\n",
        "        \"metrics\": [\"accuracy\"],\n",
        "        \"activation\": \"softmax\"\n",
        "    },\n",
        "    {\n",
        "        \"layers_conf\":[{ \"nodes\":32, \"activation\": \"relu\"}, { \"nodes\":32, \"activation\": \"relu\"},{ \"nodes\":32, \"activation\": \"relu\"}],\n",
        "        \"epocs\": 10,\n",
        "        \"batch_size\": 128,\n",
        "        \"optimizer\": \"rmsprop\",\n",
        "        \"loss\": \"categorical_crossentropy\",\n",
        "        \"metrics\": [\"accuracy\"],\n",
        "        \"activation\": \"softmax\"\n",
        "    },\n",
        "    \n",
        "]\n",
        "\n",
        "for comb in combinations:\n",
        "    train_and_test_net(\n",
        "        num_of_features,\n",
        "        num_of_categories,\n",
        "        train_data,\n",
        "        train_labels,\n",
        "        val_data,\n",
        "        val_labels,\n",
        "        ** comb\n",
        "    )\n"
      ],
      "outputs": [
        {
          "output_type": "stream",
          "name": "stdout",
          "text": [
            "71/71 [==============================] - 0s 3ms/step - loss: 0.9065 - accuracy: 0.8077\n",
            "Argumentos seleccionados: [{'layers_conf': [{'nodes': 32, 'activation': 'relu'}]}, {'epocs': 10}, {'batch_size': 128}, {'optimizer': 'rmsprop'}, {'loss': 'categorical_crossentropy'}, {'metrics': ['accuracy']}, {'activation': 'softmax'}, {'seed': 55}, {'layers_': [<KerasTensor: shape=(None, 10000) dtype=float32 (created by layer 'input_11')>, <KerasTensor: shape=(None, 32) dtype=float32 (created by layer 'dense_22')>]}, {'i': 0}, {'l_conf': {'nodes': 32, 'activation': 'relu'}}, {'output_tensor': <KerasTensor: shape=(None, 46) dtype=float32 (created by layer 'dense_23')>}, {'model': <keras.engine.functional.Functional object at 0x7ff1115c93d0>}, {'history': <keras.callbacks.History object at 0x7ff1107dc2d0>}, {'test_loss': 0.9065453410148621}, {'test_acc': 0.8076580762863159}]\n",
            "test_acc: 0.8076580762863159\n",
            "test_loss: 0.9065453410148621\n",
            "----------------------\n",
            "71/71 [==============================] - 0s 3ms/step - loss: 1.0231 - accuracy: 0.8005\n",
            "Argumentos seleccionados: [{'layers_conf': [{'nodes': 32, 'activation': 'relu'}, {'nodes': 32, 'activation': 'relu'}]}, {'epocs': 10}, {'batch_size': 128}, {'optimizer': 'rmsprop'}, {'loss': 'categorical_crossentropy'}, {'metrics': ['accuracy']}, {'activation': 'softmax'}, {'seed': 55}, {'layers_': [<KerasTensor: shape=(None, 10000) dtype=float32 (created by layer 'input_12')>, <KerasTensor: shape=(None, 32) dtype=float32 (created by layer 'dense_24')>, <KerasTensor: shape=(None, 32) dtype=float32 (created by layer 'dense_25')>]}, {'i': 1}, {'l_conf': {'nodes': 32, 'activation': 'relu'}}, {'output_tensor': <KerasTensor: shape=(None, 46) dtype=float32 (created by layer 'dense_26')>}, {'model': <keras.engine.functional.Functional object at 0x7ff1104dadd0>}, {'history': <keras.callbacks.History object at 0x7ff112587c10>}, {'test_loss': 1.023136019706726}, {'test_acc': 0.8005343079566956}]\n",
            "test_acc: 0.8005343079566956\n",
            "test_loss: 1.023136019706726\n",
            "----------------------\n",
            "71/71 [==============================] - 0s 3ms/step - loss: 1.2496 - accuracy: 0.7765\n",
            "Argumentos seleccionados: [{'layers_conf': [{'nodes': 32, 'activation': 'relu'}, {'nodes': 32, 'activation': 'relu'}, {'nodes': 32, 'activation': 'relu'}]}, {'epocs': 10}, {'batch_size': 128}, {'optimizer': 'rmsprop'}, {'loss': 'categorical_crossentropy'}, {'metrics': ['accuracy']}, {'activation': 'softmax'}, {'seed': 55}, {'layers_': [<KerasTensor: shape=(None, 10000) dtype=float32 (created by layer 'input_13')>, <KerasTensor: shape=(None, 32) dtype=float32 (created by layer 'dense_27')>, <KerasTensor: shape=(None, 32) dtype=float32 (created by layer 'dense_28')>, <KerasTensor: shape=(None, 32) dtype=float32 (created by layer 'dense_29')>]}, {'i': 2}, {'l_conf': {'nodes': 32, 'activation': 'relu'}}, {'output_tensor': <KerasTensor: shape=(None, 46) dtype=float32 (created by layer 'dense_30')>}, {'model': <keras.engine.functional.Functional object at 0x7ff11178bc10>}, {'history': <keras.callbacks.History object at 0x7ff111e21810>}, {'test_loss': 1.2496412992477417}, {'test_acc': 0.7764915227890015}]\n",
            "test_acc: 0.7764915227890015\n",
            "test_loss: 1.2496412992477417\n",
            "----------------------\n"
          ]
        }
      ],
      "metadata": {
        "colab": {
          "base_uri": "https://localhost:8080/"
        },
        "id": "d93BKp3DQFBn",
        "outputId": "2833d189-4bf4-478a-e244-b6bb439762dc"
      }
    },
    {
      "cell_type": "markdown",
      "source": [
        "Observaciones de las pruebas:\n",
        "Mas layers NO ayuda a mejorar la accuracy.\n",
        "\n"
      ],
      "metadata": {
        "id": "x_zEiLHrYhOM"
      }
    },
    {
      "cell_type": "code",
      "execution_count": 18,
      "source": [
        "# Probando número de nodos por capa\n",
        "combinations = [\n",
        "    {\n",
        "        \"layers_conf\":[{ \"nodes\":32, \"activation\": \"relu\"}],\n",
        "        \"epocs\": 10,\n",
        "        \"batch_size\": 128,\n",
        "        \"optimizer\": \"rmsprop\",\n",
        "        \"loss\": \"categorical_crossentropy\",\n",
        "        \"metrics\": [\"accuracy\"],\n",
        "        \"activation\": \"softmax\"\n",
        "    },\n",
        "    {\n",
        "        \"layers_conf\":[{ \"nodes\":64, \"activation\": \"relu\"}],\n",
        "        \"epocs\": 10,\n",
        "        \"batch_size\": 128,\n",
        "        \"optimizer\": \"rmsprop\",\n",
        "        \"loss\": \"categorical_crossentropy\",\n",
        "        \"metrics\": [\"accuracy\"],\n",
        "        \"activation\": \"softmax\"\n",
        "    },\n",
        "    {\n",
        "        \"layers_conf\":[{ \"nodes\":128, \"activation\": \"relu\"}],\n",
        "        \"epocs\": 10,\n",
        "        \"batch_size\": 128,\n",
        "        \"optimizer\": \"rmsprop\",\n",
        "        \"loss\": \"categorical_crossentropy\",\n",
        "        \"metrics\": [\"accuracy\"],\n",
        "        \"activation\": \"softmax\"\n",
        "    },\n",
        "    \n",
        "]\n",
        "\n",
        "for comb in combinations:\n",
        "    train_and_test_net(\n",
        "        num_of_features,\n",
        "        num_of_categories,\n",
        "        train_data,\n",
        "        train_labels,\n",
        "        val_data,\n",
        "        val_labels,\n",
        "        ** comb\n",
        "    )\n"
      ],
      "outputs": [
        {
          "output_type": "stream",
          "name": "stdout",
          "text": [
            "71/71 [==============================] - 0s 3ms/step - loss: 0.9065 - accuracy: 0.8077\n",
            "Argumentos seleccionados: [{'layers_conf': [{'nodes': 32, 'activation': 'relu'}]}, {'epocs': 10}, {'batch_size': 128}, {'optimizer': 'rmsprop'}, {'loss': 'categorical_crossentropy'}, {'metrics': ['accuracy']}, {'activation': 'softmax'}, {'seed': 55}, {'layers_': [<KerasTensor: shape=(None, 10000) dtype=float32 (created by layer 'input_14')>, <KerasTensor: shape=(None, 32) dtype=float32 (created by layer 'dense_31')>]}, {'i': 0}, {'l_conf': {'nodes': 32, 'activation': 'relu'}}, {'output_tensor': <KerasTensor: shape=(None, 46) dtype=float32 (created by layer 'dense_32')>}, {'model': <keras.engine.functional.Functional object at 0x7ff111e4aed0>}, {'history': <keras.callbacks.History object at 0x7ff111da8310>}, {'test_loss': 0.9065453410148621}, {'test_acc': 0.8076580762863159}]\n",
            "test_acc: 0.8076580762863159\n",
            "test_loss: 0.9065453410148621\n",
            "----------------------\n",
            "71/71 [==============================] - 0s 4ms/step - loss: 0.9942 - accuracy: 0.7983\n",
            "Argumentos seleccionados: [{'layers_conf': [{'nodes': 64, 'activation': 'relu'}]}, {'epocs': 10}, {'batch_size': 128}, {'optimizer': 'rmsprop'}, {'loss': 'categorical_crossentropy'}, {'metrics': ['accuracy']}, {'activation': 'softmax'}, {'seed': 55}, {'layers_': [<KerasTensor: shape=(None, 10000) dtype=float32 (created by layer 'input_15')>, <KerasTensor: shape=(None, 64) dtype=float32 (created by layer 'dense_33')>]}, {'i': 0}, {'l_conf': {'nodes': 64, 'activation': 'relu'}}, {'output_tensor': <KerasTensor: shape=(None, 46) dtype=float32 (created by layer 'dense_34')>}, {'model': <keras.engine.functional.Functional object at 0x7ff112465c10>}, {'history': <keras.callbacks.History object at 0x7ff1129f4c10>}, {'test_loss': 0.9942108392715454}, {'test_acc': 0.7983080744743347}]\n",
            "test_acc: 0.7983080744743347\n",
            "test_loss: 0.9942108392715454\n",
            "----------------------\n",
            "71/71 [==============================] - 0s 5ms/step - loss: 1.1131 - accuracy: 0.7983\n",
            "Argumentos seleccionados: [{'layers_conf': [{'nodes': 128, 'activation': 'relu'}]}, {'epocs': 10}, {'batch_size': 128}, {'optimizer': 'rmsprop'}, {'loss': 'categorical_crossentropy'}, {'metrics': ['accuracy']}, {'activation': 'softmax'}, {'seed': 55}, {'layers_': [<KerasTensor: shape=(None, 10000) dtype=float32 (created by layer 'input_16')>, <KerasTensor: shape=(None, 128) dtype=float32 (created by layer 'dense_35')>]}, {'i': 0}, {'l_conf': {'nodes': 128, 'activation': 'relu'}}, {'output_tensor': <KerasTensor: shape=(None, 46) dtype=float32 (created by layer 'dense_36')>}, {'model': <keras.engine.functional.Functional object at 0x7ff1128ff410>}, {'history': <keras.callbacks.History object at 0x7ff1124c4a10>}, {'test_loss': 1.1130897998809814}, {'test_acc': 0.7983080744743347}]\n",
            "test_acc: 0.7983080744743347\n",
            "test_loss: 1.1130897998809814\n",
            "----------------------\n"
          ]
        }
      ],
      "metadata": {
        "colab": {
          "base_uri": "https://localhost:8080/"
        },
        "id": "fe56crCwYr9N",
        "outputId": "2ff431a6-4313-4ca5-afba-587d96097a0a"
      }
    },
    {
      "cell_type": "markdown",
      "source": [
        "Aumentar el número de nodos no ayuda a la accuracy."
      ],
      "metadata": {
        "id": "E5hMzotlZBPr"
      }
    },
    {
      "cell_type": "code",
      "execution_count": 45,
      "source": [
        "# Funciones de\n",
        "combinations = [\n",
        "    {\n",
        "        \"layers_conf\":[{ \"nodes\":32, \"activation\": \"leakyrelu\"}],\n",
        "        \"epocs\": 10,\n",
        "        \"batch_size\": 128,\n",
        "        \"optimizer\": \"rmsprop\",\n",
        "        \"loss\": \"categorical_crossentropy\",\n",
        "        \"metrics\": [\"accuracy\"],\n",
        "        \"activation\": \"softmax\"\n",
        "    },\n",
        "    {\n",
        "        \"layers_conf\":[{ \"nodes\":32, \"activation\": \"relu\"}],\n",
        "        \"epocs\": 10,\n",
        "        \"batch_size\": 128,\n",
        "        \"optimizer\": \"rmsprop\",\n",
        "        \"loss\": \"categorical_crossentropy\",\n",
        "        \"metrics\": [\"accuracy\"],\n",
        "        \"activation\": \"softmax\"\n",
        "    },\n",
        "    {\n",
        "        \"layers_conf\":[{ \"nodes\":32, \"activation\": \"linear\"}],\n",
        "        \"epocs\": 10,\n",
        "        \"batch_size\": 128,\n",
        "        \"optimizer\": \"rmsprop\",\n",
        "        \"loss\": \"categorical_crossentropy\",\n",
        "        \"metrics\": [\"accuracy\"],\n",
        "        \"activation\": \"softmax\"\n",
        "    },    \n",
        "    {\n",
        "        \"layers_conf\":[{ \"nodes\":32, \"activation\": \"sigmoid\"}],\n",
        "        \"epocs\": 10,\n",
        "        \"batch_size\": 128,\n",
        "        \"optimizer\": \"rmsprop\",\n",
        "        \"loss\": \"categorical_crossentropy\",\n",
        "        \"metrics\": [\"accuracy\"],\n",
        "        \"activation\": \"softmax\"\n",
        "    },    \n",
        "]\n",
        "\n",
        "for comb in combinations:\n",
        "    train_and_test_net(\n",
        "        num_of_features,\n",
        "        num_of_categories,\n",
        "        train_data,\n",
        "        train_labels,\n",
        "        val_data,\n",
        "        val_labels,\n",
        "        ** comb\n",
        "    )\n"
      ],
      "outputs": [
        {
          "output_type": "stream",
          "name": "stdout",
          "text": [
            "71/71 [==============================] - 0s 3ms/step - loss: 0.9095 - accuracy: 0.8072\n",
            "Argumentos seleccionados: [{'layers_conf': [{'nodes': 32, 'activation': 'leakyrelu'}]}, {'epocs': 10}, {'batch_size': 128}, {'optimizer': 'rmsprop'}, {'loss': 'categorical_crossentropy'}, {'metrics': ['accuracy']}, {'activation': 'softmax'}, {'seed': 55}, {'layers_': [<KerasTensor: shape=(None, 10000) dtype=float32 (created by layer 'input_59')>, <KerasTensor: shape=(None, 32) dtype=float32 (created by layer 'leaky_re_lu_2')>]}, {'i': 0}, {'l_conf': {'nodes': 32, 'activation': 'leakyrelu'}}, {'x': <KerasTensor: shape=(None, 32) dtype=float32 (created by layer 'leaky_re_lu_2')>}, {'output_tensor': <KerasTensor: shape=(None, 46) dtype=float32 (created by layer 'dense_122')>}, {'model': <keras.engine.functional.Functional object at 0x7ff112029e90>}, {'history': <keras.callbacks.History object at 0x7ff111706ed0>}, {'test_loss': 0.9095311760902405}, {'test_acc': 0.8072128295898438}]\n",
            "test_acc: 0.8072128295898438\n",
            "test_loss: 0.9095311760902405\n",
            "----------------------\n",
            "71/71 [==============================] - 0s 4ms/step - loss: 0.9065 - accuracy: 0.8077\n",
            "Argumentos seleccionados: [{'layers_conf': [{'nodes': 32, 'activation': 'relu'}]}, {'epocs': 10}, {'batch_size': 128}, {'optimizer': 'rmsprop'}, {'loss': 'categorical_crossentropy'}, {'metrics': ['accuracy']}, {'activation': 'softmax'}, {'seed': 55}, {'layers_': [<KerasTensor: shape=(None, 10000) dtype=float32 (created by layer 'input_60')>, <KerasTensor: shape=(None, 32) dtype=float32 (created by layer 'dense_123')>]}, {'i': 0}, {'l_conf': {'nodes': 32, 'activation': 'relu'}}, {'output_tensor': <KerasTensor: shape=(None, 46) dtype=float32 (created by layer 'dense_124')>}, {'model': <keras.engine.functional.Functional object at 0x7ff107343dd0>}, {'history': <keras.callbacks.History object at 0x7ff110174750>}, {'test_loss': 0.9065453410148621}, {'test_acc': 0.8076580762863159}]\n",
            "test_acc: 0.8076580762863159\n",
            "test_loss: 0.9065453410148621\n",
            "----------------------\n",
            "71/71 [==============================] - 0s 4ms/step - loss: 0.9342 - accuracy: 0.8050\n",
            "Argumentos seleccionados: [{'layers_conf': [{'nodes': 32, 'activation': 'linear'}]}, {'epocs': 10}, {'batch_size': 128}, {'optimizer': 'rmsprop'}, {'loss': 'categorical_crossentropy'}, {'metrics': ['accuracy']}, {'activation': 'softmax'}, {'seed': 55}, {'layers_': [<KerasTensor: shape=(None, 10000) dtype=float32 (created by layer 'input_61')>, <KerasTensor: shape=(None, 32) dtype=float32 (created by layer 'dense_125')>]}, {'i': 0}, {'l_conf': {'nodes': 32, 'activation': 'linear'}}, {'output_tensor': <KerasTensor: shape=(None, 46) dtype=float32 (created by layer 'dense_126')>}, {'model': <keras.engine.functional.Functional object at 0x7ff108e6b750>}, {'history': <keras.callbacks.History object at 0x7ff1070b9110>}, {'test_loss': 0.9342009425163269}, {'test_acc': 0.8049866557121277}]\n",
            "test_acc: 0.8049866557121277\n",
            "test_loss: 0.9342009425163269\n",
            "----------------------\n",
            "71/71 [==============================] - 0s 4ms/step - loss: 0.9567 - accuracy: 0.7774\n",
            "Argumentos seleccionados: [{'layers_conf': [{'nodes': 32, 'activation': 'sigmoid'}]}, {'epocs': 10}, {'batch_size': 128}, {'optimizer': 'rmsprop'}, {'loss': 'categorical_crossentropy'}, {'metrics': ['accuracy']}, {'activation': 'softmax'}, {'seed': 55}, {'layers_': [<KerasTensor: shape=(None, 10000) dtype=float32 (created by layer 'input_62')>, <KerasTensor: shape=(None, 32) dtype=float32 (created by layer 'dense_127')>]}, {'i': 0}, {'l_conf': {'nodes': 32, 'activation': 'sigmoid'}}, {'output_tensor': <KerasTensor: shape=(None, 46) dtype=float32 (created by layer 'dense_128')>}, {'model': <keras.engine.functional.Functional object at 0x7ff108d1a350>}, {'history': <keras.callbacks.History object at 0x7ff10720f910>}, {'test_loss': 0.9566845893859863}, {'test_acc': 0.7773820161819458}]\n",
            "test_acc: 0.7773820161819458\n",
            "test_loss: 0.9566845893859863\n",
            "----------------------\n"
          ]
        }
      ],
      "metadata": {
        "colab": {
          "base_uri": "https://localhost:8080/"
        },
        "id": "sNEzDk1CZdhB",
        "outputId": "889ffe9b-585c-4665-b3af-345ab96b211b"
      }
    },
    {
      "cell_type": "markdown",
      "source": [
        "La función de activación relu mejora levemente la performance frente a linear, leakyrelu y sigmoid. Para las próximas pruebas, se mantiene este parámetro."
      ],
      "metadata": {
        "id": "7O1I6rlrcMzt"
      }
    },
    {
      "cell_type": "code",
      "execution_count": 21,
      "source": [
        "combinations = [\n",
        "    {\n",
        "        \"layers_conf\":[{ \"nodes\":32, \"activation\": \"relu\"}],\n",
        "        \"epocs\": 10,\n",
        "        \"batch_size\": 128,\n",
        "        \"optimizer\": \"rmsprop\",\n",
        "        \"loss\": \"categorical_crossentropy\",\n",
        "        \"metrics\": [\"accuracy\"],\n",
        "        \"activation\": \"softmax\"\n",
        "    },\n",
        "    {\n",
        "        \"layers_conf\":[{ \"nodes\":32, \"activation\": \"relu\"}],\n",
        "        \"epocs\": 20,\n",
        "        \"batch_size\": 128,\n",
        "        \"optimizer\": \"rmsprop\",\n",
        "        \"loss\": \"categorical_crossentropy\",\n",
        "        \"metrics\": [\"accuracy\"],\n",
        "        \"activation\": \"softmax\"\n",
        "    },    \n",
        "    {\n",
        "        \"layers_conf\":[{ \"nodes\":32, \"activation\": \"relu\"}],\n",
        "        \"epocs\": 30,\n",
        "        \"batch_size\": 128,\n",
        "        \"optimizer\": \"rmsprop\",\n",
        "        \"loss\": \"categorical_crossentropy\",\n",
        "        \"metrics\": [\"accuracy\"],\n",
        "        \"activation\": \"softmax\"\n",
        "    },    \n",
        "]\n",
        "\n",
        "for comb in combinations:\n",
        "    train_and_test_net(\n",
        "        num_of_features,\n",
        "        num_of_categories,\n",
        "        train_data,\n",
        "        train_labels,\n",
        "        val_data,\n",
        "        val_labels,\n",
        "        ** comb\n",
        "    )\n"
      ],
      "outputs": [
        {
          "output_type": "stream",
          "name": "stdout",
          "text": [
            "71/71 [==============================] - 0s 5ms/step - loss: 0.9065 - accuracy: 0.8077\n",
            "Argumentos seleccionados: [{'layers_conf': [{'nodes': 32, 'activation': 'relu'}]}, {'epocs': 10}, {'batch_size': 128}, {'optimizer': 'rmsprop'}, {'loss': 'categorical_crossentropy'}, {'metrics': ['accuracy']}, {'activation': 'softmax'}, {'seed': 55}, {'layers_': [<KerasTensor: shape=(None, 10000) dtype=float32 (created by layer 'input_22')>, <KerasTensor: shape=(None, 32) dtype=float32 (created by layer 'dense_47')>]}, {'i': 0}, {'l_conf': {'nodes': 32, 'activation': 'relu'}}, {'output_tensor': <KerasTensor: shape=(None, 46) dtype=float32 (created by layer 'dense_48')>}, {'model': <keras.engine.functional.Functional object at 0x7ff111587f50>}, {'history': <keras.callbacks.History object at 0x7ff110514fd0>}, {'test_loss': 0.9065453410148621}, {'test_acc': 0.8076580762863159}]\n",
            "test_acc: 0.8076580762863159\n",
            "test_loss: 0.9065453410148621\n",
            "----------------------\n",
            "71/71 [==============================] - 1s 6ms/step - loss: 1.1684 - accuracy: 0.7956\n",
            "Argumentos seleccionados: [{'layers_conf': [{'nodes': 32, 'activation': 'relu'}]}, {'epocs': 20}, {'batch_size': 128}, {'optimizer': 'rmsprop'}, {'loss': 'categorical_crossentropy'}, {'metrics': ['accuracy']}, {'activation': 'softmax'}, {'seed': 55}, {'layers_': [<KerasTensor: shape=(None, 10000) dtype=float32 (created by layer 'input_23')>, <KerasTensor: shape=(None, 32) dtype=float32 (created by layer 'dense_49')>]}, {'i': 0}, {'l_conf': {'nodes': 32, 'activation': 'relu'}}, {'output_tensor': <KerasTensor: shape=(None, 46) dtype=float32 (created by layer 'dense_50')>}, {'model': <keras.engine.functional.Functional object at 0x7ff1116e4090>}, {'history': <keras.callbacks.History object at 0x7ff17d5ed450>}, {'test_loss': 1.1683567762374878}, {'test_acc': 0.7956367135047913}]\n",
            "test_acc: 0.7956367135047913\n",
            "test_loss: 1.1683567762374878\n",
            "----------------------\n",
            "71/71 [==============================] - 0s 3ms/step - loss: 1.4424 - accuracy: 0.7858\n",
            "Argumentos seleccionados: [{'layers_conf': [{'nodes': 32, 'activation': 'relu'}]}, {'epocs': 30}, {'batch_size': 128}, {'optimizer': 'rmsprop'}, {'loss': 'categorical_crossentropy'}, {'metrics': ['accuracy']}, {'activation': 'softmax'}, {'seed': 55}, {'layers_': [<KerasTensor: shape=(None, 10000) dtype=float32 (created by layer 'input_24')>, <KerasTensor: shape=(None, 32) dtype=float32 (created by layer 'dense_51')>]}, {'i': 0}, {'l_conf': {'nodes': 32, 'activation': 'relu'}}, {'output_tensor': <KerasTensor: shape=(None, 46) dtype=float32 (created by layer 'dense_52')>}, {'model': <keras.engine.functional.Functional object at 0x7ff1066a7410>}, {'history': <keras.callbacks.History object at 0x7ff1066b1ed0>}, {'test_loss': 1.4423835277557373}, {'test_acc': 0.7858415246009827}]\n",
            "test_acc: 0.7858415246009827\n",
            "test_loss: 1.4423835277557373\n",
            "----------------------\n"
          ]
        }
      ],
      "metadata": {
        "colab": {
          "base_uri": "https://localhost:8080/"
        },
        "id": "MjKb-C43cEHh",
        "outputId": "18c228a0-a525-415a-a58e-3a8f7c553f47"
      }
    },
    {
      "cell_type": "markdown",
      "source": [
        "A más epocs de 10 epocs, menos performance."
      ],
      "metadata": {
        "id": "dwLIH1Bqem6v"
      }
    },
    {
      "cell_type": "code",
      "execution_count": 22,
      "source": [
        "from tensorflow.keras import optimizers\n",
        "\n",
        "combinations = [\n",
        "    {\n",
        "        \"layers_conf\":[{ \"nodes\":32, \"activation\": \"relu\"}],\n",
        "        \"epocs\": 10,\n",
        "        \"batch_size\": 128,\n",
        "        \"optimizer\": optimizers.RMSprop(learning_rate=0.001), #default value\n",
        "        \"loss\": \"categorical_crossentropy\",\n",
        "        \"metrics\": [\"accuracy\"],\n",
        "        \"activation\": \"softmax\"\n",
        "    },\n",
        "    {\n",
        "        \"layers_conf\":[{ \"nodes\":32, \"activation\": \"relu\"}],\n",
        "        \"epocs\": 10,\n",
        "        \"batch_size\": 128,\n",
        "        \"optimizer\": optimizers.RMSprop(learning_rate=0.01),\n",
        "        \"loss\": \"categorical_crossentropy\",\n",
        "        \"metrics\": [\"accuracy\"],\n",
        "        \"activation\": \"softmax\"\n",
        "    },\n",
        "    {\n",
        "        \"layers_conf\":[{ \"nodes\":32, \"activation\": \"relu\"}],\n",
        "        \"epocs\": 10,\n",
        "        \"batch_size\": 128,\n",
        "        \"optimizer\": optimizers.RMSprop(learning_rate=0.0001), #default value\n",
        "        \"loss\": \"categorical_crossentropy\",\n",
        "        \"metrics\": [\"accuracy\"],\n",
        "        \"activation\": \"softmax\"\n",
        "    },    \n",
        "    {\n",
        "        \"layers_conf\":[{ \"nodes\":32, \"activation\": \"relu\"}],\n",
        "        \"epocs\": 10,\n",
        "        \"batch_size\": 128,\n",
        "        \"optimizer\": optimizers.Adam(),\n",
        "        \"loss\": \"categorical_crossentropy\",\n",
        "        \"metrics\": [\"accuracy\"],\n",
        "        \"activation\": \"softmax\"\n",
        "    },\n",
        "]\n",
        "\n",
        "for comb in combinations:\n",
        "    train_and_test_net(\n",
        "        num_of_features,\n",
        "        num_of_categories,\n",
        "        train_data,\n",
        "        train_labels,\n",
        "        val_data,\n",
        "        val_labels,\n",
        "        ** comb\n",
        "    )\n"
      ],
      "outputs": [
        {
          "output_type": "stream",
          "name": "stdout",
          "text": [
            "71/71 [==============================] - 0s 3ms/step - loss: 0.9065 - accuracy: 0.8077\n",
            "Argumentos seleccionados: [{'layers_conf': [{'nodes': 32, 'activation': 'relu'}]}, {'epocs': 10}, {'batch_size': 128}, {'optimizer': <keras.optimizers.optimizer_v2.rmsprop.RMSprop object at 0x7ff111994990>}, {'loss': 'categorical_crossentropy'}, {'metrics': ['accuracy']}, {'activation': 'softmax'}, {'seed': 55}, {'layers_': [<KerasTensor: shape=(None, 10000) dtype=float32 (created by layer 'input_25')>, <KerasTensor: shape=(None, 32) dtype=float32 (created by layer 'dense_53')>]}, {'i': 0}, {'l_conf': {'nodes': 32, 'activation': 'relu'}}, {'output_tensor': <KerasTensor: shape=(None, 46) dtype=float32 (created by layer 'dense_54')>}, {'model': <keras.engine.functional.Functional object at 0x7ff1128a7410>}, {'history': <keras.callbacks.History object at 0x7ff112943390>}, {'test_loss': 0.9065453410148621}, {'test_acc': 0.8076580762863159}]\n",
            "test_acc: 0.8076580762863159\n",
            "test_loss: 0.9065453410148621\n",
            "----------------------\n",
            "71/71 [==============================] - 0s 4ms/step - loss: 2.8074 - accuracy: 0.7676\n",
            "Argumentos seleccionados: [{'layers_conf': [{'nodes': 32, 'activation': 'relu'}]}, {'epocs': 10}, {'batch_size': 128}, {'optimizer': <keras.optimizers.optimizer_v2.rmsprop.RMSprop object at 0x7ff111994a10>}, {'loss': 'categorical_crossentropy'}, {'metrics': ['accuracy']}, {'activation': 'softmax'}, {'seed': 55}, {'layers_': [<KerasTensor: shape=(None, 10000) dtype=float32 (created by layer 'input_26')>, <KerasTensor: shape=(None, 32) dtype=float32 (created by layer 'dense_55')>]}, {'i': 0}, {'l_conf': {'nodes': 32, 'activation': 'relu'}}, {'output_tensor': <KerasTensor: shape=(None, 46) dtype=float32 (created by layer 'dense_56')>}, {'model': <keras.engine.functional.Functional object at 0x7ff112073f90>}, {'history': <keras.callbacks.History object at 0x7ff112211590>}, {'test_loss': 2.8073790073394775}, {'test_acc': 0.7675868272781372}]\n",
            "test_acc: 0.7675868272781372\n",
            "test_loss: 2.8073790073394775\n",
            "----------------------\n",
            "71/71 [==============================] - 0s 3ms/step - loss: 1.4806 - accuracy: 0.6866\n",
            "Argumentos seleccionados: [{'layers_conf': [{'nodes': 32, 'activation': 'relu'}]}, {'epocs': 10}, {'batch_size': 128}, {'optimizer': <keras.optimizers.optimizer_v2.rmsprop.RMSprop object at 0x7ff111994a90>}, {'loss': 'categorical_crossentropy'}, {'metrics': ['accuracy']}, {'activation': 'softmax'}, {'seed': 55}, {'layers_': [<KerasTensor: shape=(None, 10000) dtype=float32 (created by layer 'input_27')>, <KerasTensor: shape=(None, 32) dtype=float32 (created by layer 'dense_57')>]}, {'i': 0}, {'l_conf': {'nodes': 32, 'activation': 'relu'}}, {'output_tensor': <KerasTensor: shape=(None, 46) dtype=float32 (created by layer 'dense_58')>}, {'model': <keras.engine.functional.Functional object at 0x7ff112076690>}, {'history': <keras.callbacks.History object at 0x7ff1100fe750>}, {'test_loss': 1.4805736541748047}, {'test_acc': 0.6865538954734802}]\n",
            "test_acc: 0.6865538954734802\n",
            "test_loss: 1.4805736541748047\n",
            "----------------------\n",
            "71/71 [==============================] - 0s 4ms/step - loss: 0.8797 - accuracy: 0.8037\n",
            "Argumentos seleccionados: [{'layers_conf': [{'nodes': 32, 'activation': 'relu'}]}, {'epocs': 10}, {'batch_size': 128}, {'optimizer': <keras.optimizers.optimizer_v2.adam.Adam object at 0x7ff111994ad0>}, {'loss': 'categorical_crossentropy'}, {'metrics': ['accuracy']}, {'activation': 'softmax'}, {'seed': 55}, {'layers_': [<KerasTensor: shape=(None, 10000) dtype=float32 (created by layer 'input_28')>, <KerasTensor: shape=(None, 32) dtype=float32 (created by layer 'dense_59')>]}, {'i': 0}, {'l_conf': {'nodes': 32, 'activation': 'relu'}}, {'output_tensor': <KerasTensor: shape=(None, 46) dtype=float32 (created by layer 'dense_60')>}, {'model': <keras.engine.functional.Functional object at 0x7ff1119d2e50>}, {'history': <keras.callbacks.History object at 0x7ff111f2ead0>}, {'test_loss': 0.8797447681427002}, {'test_acc': 0.8036509156227112}]\n",
            "test_acc: 0.8036509156227112\n",
            "test_loss: 0.8797447681427002\n",
            "----------------------\n"
          ]
        }
      ],
      "metadata": {
        "colab": {
          "base_uri": "https://localhost:8080/"
        },
        "id": "SLiU60zoeVkQ",
        "outputId": "861ef7ac-f8e1-4ffe-c0ba-9b4007629ea1"
      }
    },
    {
      "cell_type": "markdown",
      "source": [
        "Como conclusión de la primer pasada, el parámetro que mas ayudó a mejorar es el de usar una activación relu para cada nodo con una semilla número 55. El resto de los hiper parámetros no hicieron una diferencia, de hecho empeoraron los resultados. Inicialmente había intentado con una semilla distinta, lo que me habia arrojado que una función de activación lineal era la mejor, pero al seleccionar 55 de semilla, la activación relu es la que mejor performó. De todas formas las diferencias encontradas eran muy menores, por lo que ninguna generó un gran cambio.\n"
      ],
      "metadata": {
        "id": "vtSfyEPSgGeH"
      }
    },
    {
      "cell_type": "markdown",
      "source": [
        "## Tamaño de mini-batch\n",
        "Describa cómo cambia la convergencia al utilizar distintos valores de mini-batch. Un gráfico que muestre el costo/pérdida en función del número de épocas sería suficiente"
      ],
      "metadata": {
        "id": "x0jGOiOe17Md"
      }
    },
    {
      "cell_type": "code",
      "execution_count": 23,
      "source": [
        "import matplotlib.pyplot as plt\n",
        "\n",
        "\n",
        "from tensorflow.keras import optimizers\n",
        "\n",
        "combination0 = {\n",
        "        \"layers_conf\":[{ \"nodes\":32, \"activation\": \"relu\"}],\n",
        "        \"epocs\": 15,\n",
        "        \"batch_size\": 8,\n",
        "        \"optimizer\": optimizers.RMSprop(learning_rate=0.001), #default value\n",
        "        \"loss\": \"categorical_crossentropy\",\n",
        "        \"metrics\": [\"accuracy\"],\n",
        "        \"activation\": \"softmax\"\n",
        "    }\n",
        "combination1 = {\n",
        "        \"layers_conf\":[{ \"nodes\":32, \"activation\": \"relu\"}],\n",
        "        \"epocs\": 15,\n",
        "        \"batch_size\": 16,\n",
        "        \"optimizer\": optimizers.RMSprop(learning_rate=0.001), #default value\n",
        "        \"loss\": \"categorical_crossentropy\",\n",
        "        \"metrics\": [\"accuracy\"],\n",
        "        \"activation\": \"softmax\"\n",
        "    }\n",
        "combination2 = {\n",
        "        \"layers_conf\":[{ \"nodes\":32, \"activation\": \"relu\"}],\n",
        "        \"epocs\": 15,\n",
        "        \"batch_size\": 32,\n",
        "        \"optimizer\": optimizers.RMSprop(learning_rate=0.001), #default value\n",
        "        \"loss\": \"categorical_crossentropy\",\n",
        "        \"metrics\": [\"accuracy\"],\n",
        "        \"activation\": \"softmax\"\n",
        "    }\n",
        "combination3 = {\n",
        "        \"layers_conf\":[{ \"nodes\":32, \"activation\": \"relu\"}],\n",
        "        \"epocs\": 15,\n",
        "        \"batch_size\": 64,\n",
        "        \"optimizer\": optimizers.RMSprop(learning_rate=0.001), #default value\n",
        "        \"loss\": \"categorical_crossentropy\",\n",
        "        \"metrics\": [\"accuracy\"],\n",
        "        \"activation\": \"softmax\"\n",
        "    }\n",
        "combination4 = {\n",
        "        \"layers_conf\":[{ \"nodes\":32, \"activation\": \"relu\"}],\n",
        "        \"epocs\": 15,\n",
        "        \"batch_size\": 128,\n",
        "        \"optimizer\": optimizers.RMSprop(learning_rate=0.001), #default value\n",
        "        \"loss\": \"categorical_crossentropy\",\n",
        "        \"metrics\": [\"accuracy\"],\n",
        "        \"activation\": \"softmax\"\n",
        "    }\n",
        "combination5 = {\n",
        "        \"layers_conf\":[{ \"nodes\":32, \"activation\": \"relu\"}],\n",
        "        \"epocs\": 15,\n",
        "        \"batch_size\": 256,\n",
        "        \"optimizer\": optimizers.RMSprop(learning_rate=0.001), #default value\n",
        "        \"loss\": \"categorical_crossentropy\",\n",
        "        \"metrics\": [\"accuracy\"],\n",
        "        \"activation\": \"softmax\"\n",
        "    }\n",
        "combination6 = {\n",
        "        \"layers_conf\":[{ \"nodes\":32, \"activation\": \"relu\"}],\n",
        "        \"epocs\": 15,\n",
        "        \"batch_size\": 512,\n",
        "        \"optimizer\": optimizers.RMSprop(learning_rate=0.001), #default value\n",
        "        \"loss\": \"categorical_crossentropy\",\n",
        "        \"metrics\": [\"accuracy\"],\n",
        "        \"activation\": \"softmax\"\n",
        "    }\n",
        "combination7 = {\n",
        "        \"layers_conf\":[{ \"nodes\":32, \"activation\": \"relu\"}],\n",
        "        \"epocs\": 15,\n",
        "        \"batch_size\": 1024,\n",
        "        \"optimizer\": optimizers.RMSprop(learning_rate=0.001), #default value\n",
        "        \"loss\": \"categorical_crossentropy\",\n",
        "        \"metrics\": [\"accuracy\"],\n",
        "        \"activation\": \"softmax\"\n",
        "    }\n",
        "combination8 = {\n",
        "        \"layers_conf\":[{ \"nodes\":32, \"activation\": \"relu\"}],\n",
        "        \"epocs\": 15,\n",
        "        \"batch_size\": 2048,\n",
        "        \"optimizer\": optimizers.RMSprop(learning_rate=0.001), #default value\n",
        "        \"loss\": \"categorical_crossentropy\",\n",
        "        \"metrics\": [\"accuracy\"],\n",
        "        \"activation\": \"softmax\"\n",
        "    }\n",
        "\n",
        "\n",
        "history0 = train_and_test_net(\n",
        "    num_of_features,\n",
        "    num_of_categories,\n",
        "    train_data,\n",
        "    train_labels,\n",
        "    val_data,\n",
        "    val_labels,\n",
        "    ** combination0\n",
        ")\n",
        "history1 = train_and_test_net(\n",
        "    num_of_features,\n",
        "    num_of_categories,\n",
        "    train_data,\n",
        "    train_labels,\n",
        "    val_data,\n",
        "    val_labels,\n",
        "    ** combination1\n",
        ")\n",
        "history2 = train_and_test_net(\n",
        "    num_of_features,\n",
        "    num_of_categories,\n",
        "    train_data,\n",
        "    train_labels,\n",
        "    val_data,\n",
        "    val_labels,\n",
        "    ** combination2\n",
        ")\n",
        "history3 = train_and_test_net(\n",
        "    num_of_features,\n",
        "    num_of_categories,\n",
        "    train_data,\n",
        "    train_labels,\n",
        "    val_data,\n",
        "    val_labels,\n",
        "    ** combination3\n",
        ")\n",
        "history4 = train_and_test_net(\n",
        "    num_of_features,\n",
        "    num_of_categories,\n",
        "    train_data,\n",
        "    train_labels,\n",
        "    val_data,\n",
        "    val_labels,\n",
        "    ** combination4\n",
        ")\n",
        "history5 = train_and_test_net(\n",
        "    num_of_features,\n",
        "    num_of_categories,\n",
        "    train_data,\n",
        "    train_labels,\n",
        "    val_data,\n",
        "    val_labels,\n",
        "    ** combination5\n",
        ")\n",
        "history6 = train_and_test_net(\n",
        "    num_of_features,\n",
        "    num_of_categories,\n",
        "    train_data,\n",
        "    train_labels,\n",
        "    val_data,\n",
        "    val_labels,\n",
        "    ** combination6\n",
        ")\n",
        "history7 = train_and_test_net(\n",
        "    num_of_features,\n",
        "    num_of_categories,\n",
        "    train_data,\n",
        "    train_labels,\n",
        "    val_data,\n",
        "    val_labels,\n",
        "    ** combination7\n",
        ")\n",
        "history8 = train_and_test_net(\n",
        "    num_of_features,\n",
        "    num_of_categories,\n",
        "    train_data,\n",
        "    train_labels,\n",
        "    val_data,\n",
        "    val_labels,\n",
        "    ** combination8\n",
        ")\n",
        "acc = history0.history['accuracy']\n",
        "\n",
        "loss0 = history0.history['loss']\n",
        "val_loss0 = history0.history['val_loss']\n",
        "loss1 = history1.history['loss']\n",
        "val_loss1 = history1.history['val_loss']\n",
        "loss2 = history2.history['loss']\n",
        "val_loss2 = history2.history['val_loss']\n",
        "loss3 = history3.history['loss']\n",
        "val_loss3 = history3.history['val_loss']\n",
        "loss4 = history3.history['loss']\n",
        "val_loss4 = history4.history['val_loss']\n",
        "loss5 = history5.history['loss']\n",
        "val_loss5 = history5.history['val_loss']\n",
        "loss6 = history6.history['loss']\n",
        "val_loss6 = history6.history['val_loss']\n",
        "loss7 = history7.history['loss']\n",
        "val_loss7 = history7.history['val_loss']\n",
        "loss8 = history8.history['loss']\n",
        "val_loss8 = history8.history['val_loss']\n",
        "epochs = range(1, len(acc) + 1)"
      ],
      "outputs": [
        {
          "output_type": "stream",
          "name": "stdout",
          "text": [
            "71/71 [==============================] - 0s 3ms/step - loss: 4.0067 - accuracy: 0.7689\n",
            "Argumentos seleccionados: [{'layers_conf': [{'nodes': 32, 'activation': 'relu'}]}, {'epocs': 15}, {'batch_size': 8}, {'optimizer': <keras.optimizers.optimizer_v2.rmsprop.RMSprop object at 0x7ff111ebf250>}, {'loss': 'categorical_crossentropy'}, {'metrics': ['accuracy']}, {'activation': 'softmax'}, {'seed': 55}, {'layers_': [<KerasTensor: shape=(None, 10000) dtype=float32 (created by layer 'input_29')>, <KerasTensor: shape=(None, 32) dtype=float32 (created by layer 'dense_61')>]}, {'i': 0}, {'l_conf': {'nodes': 32, 'activation': 'relu'}}, {'output_tensor': <KerasTensor: shape=(None, 46) dtype=float32 (created by layer 'dense_62')>}, {'model': <keras.engine.functional.Functional object at 0x7ff111ebf950>}, {'history': <keras.callbacks.History object at 0x7ff111ea7690>}, {'test_loss': 4.006709098815918}, {'test_acc': 0.7689225077629089}]\n",
            "test_acc: 0.7689225077629089\n",
            "test_loss: 4.006709098815918\n",
            "----------------------\n",
            "71/71 [==============================] - 0s 4ms/step - loss: 2.7065 - accuracy: 0.7863\n",
            "Argumentos seleccionados: [{'layers_conf': [{'nodes': 32, 'activation': 'relu'}]}, {'epocs': 15}, {'batch_size': 16}, {'optimizer': <keras.optimizers.optimizer_v2.rmsprop.RMSprop object at 0x7ff111ebf290>}, {'loss': 'categorical_crossentropy'}, {'metrics': ['accuracy']}, {'activation': 'softmax'}, {'seed': 55}, {'layers_': [<KerasTensor: shape=(None, 10000) dtype=float32 (created by layer 'input_30')>, <KerasTensor: shape=(None, 32) dtype=float32 (created by layer 'dense_63')>]}, {'i': 0}, {'l_conf': {'nodes': 32, 'activation': 'relu'}}, {'output_tensor': <KerasTensor: shape=(None, 46) dtype=float32 (created by layer 'dense_64')>}, {'model': <keras.engine.functional.Functional object at 0x7ff111b03290>}, {'history': <keras.callbacks.History object at 0x7ff1105b1c50>}, {'test_loss': 2.7064948081970215}, {'test_acc': 0.7862867116928101}]\n",
            "test_acc: 0.7862867116928101\n",
            "test_loss: 2.7064948081970215\n",
            "----------------------\n",
            "71/71 [==============================] - 0s 3ms/step - loss: 1.7212 - accuracy: 0.7890\n",
            "Argumentos seleccionados: [{'layers_conf': [{'nodes': 32, 'activation': 'relu'}]}, {'epocs': 15}, {'batch_size': 32}, {'optimizer': <keras.optimizers.optimizer_v2.rmsprop.RMSprop object at 0x7ff111ebf710>}, {'loss': 'categorical_crossentropy'}, {'metrics': ['accuracy']}, {'activation': 'softmax'}, {'seed': 55}, {'layers_': [<KerasTensor: shape=(None, 10000) dtype=float32 (created by layer 'input_31')>, <KerasTensor: shape=(None, 32) dtype=float32 (created by layer 'dense_65')>]}, {'i': 0}, {'l_conf': {'nodes': 32, 'activation': 'relu'}}, {'output_tensor': <KerasTensor: shape=(None, 46) dtype=float32 (created by layer 'dense_66')>}, {'model': <keras.engine.functional.Functional object at 0x7ff110e42b90>}, {'history': <keras.callbacks.History object at 0x7ff111e89350>}, {'test_loss': 1.7211908102035522}, {'test_acc': 0.7889581322669983}]\n",
            "test_acc: 0.7889581322669983\n",
            "test_loss: 1.7211908102035522\n",
            "----------------------\n",
            "71/71 [==============================] - 0s 3ms/step - loss: 1.2684 - accuracy: 0.7903\n",
            "Argumentos seleccionados: [{'layers_conf': [{'nodes': 32, 'activation': 'relu'}]}, {'epocs': 15}, {'batch_size': 64}, {'optimizer': <keras.optimizers.optimizer_v2.rmsprop.RMSprop object at 0x7ff111ebf1d0>}, {'loss': 'categorical_crossentropy'}, {'metrics': ['accuracy']}, {'activation': 'softmax'}, {'seed': 55}, {'layers_': [<KerasTensor: shape=(None, 10000) dtype=float32 (created by layer 'input_32')>, <KerasTensor: shape=(None, 32) dtype=float32 (created by layer 'dense_67')>]}, {'i': 0}, {'l_conf': {'nodes': 32, 'activation': 'relu'}}, {'output_tensor': <KerasTensor: shape=(None, 46) dtype=float32 (created by layer 'dense_68')>}, {'model': <keras.engine.functional.Functional object at 0x7ff110e4cf50>}, {'history': <keras.callbacks.History object at 0x7ff110234850>}, {'test_loss': 1.2683850526809692}, {'test_acc': 0.7902938723564148}]\n",
            "test_acc: 0.7902938723564148\n",
            "test_loss: 1.2683850526809692\n",
            "----------------------\n",
            "71/71 [==============================] - 0s 3ms/step - loss: 1.0533 - accuracy: 0.7983\n",
            "Argumentos seleccionados: [{'layers_conf': [{'nodes': 32, 'activation': 'relu'}]}, {'epocs': 15}, {'batch_size': 128}, {'optimizer': <keras.optimizers.optimizer_v2.rmsprop.RMSprop object at 0x7ff111ebf210>}, {'loss': 'categorical_crossentropy'}, {'metrics': ['accuracy']}, {'activation': 'softmax'}, {'seed': 55}, {'layers_': [<KerasTensor: shape=(None, 10000) dtype=float32 (created by layer 'input_33')>, <KerasTensor: shape=(None, 32) dtype=float32 (created by layer 'dense_69')>]}, {'i': 0}, {'l_conf': {'nodes': 32, 'activation': 'relu'}}, {'output_tensor': <KerasTensor: shape=(None, 46) dtype=float32 (created by layer 'dense_70')>}, {'model': <keras.engine.functional.Functional object at 0x7ff11227bbd0>}, {'history': <keras.callbacks.History object at 0x7ff111884e50>}, {'test_loss': 1.05328369140625}, {'test_acc': 0.7983080744743347}]\n",
            "test_acc: 0.7983080744743347\n",
            "test_loss: 1.05328369140625\n",
            "----------------------\n",
            "71/71 [==============================] - 0s 4ms/step - loss: 0.9354 - accuracy: 0.8045\n",
            "Argumentos seleccionados: [{'layers_conf': [{'nodes': 32, 'activation': 'relu'}]}, {'epocs': 15}, {'batch_size': 256}, {'optimizer': <keras.optimizers.optimizer_v2.rmsprop.RMSprop object at 0x7ff111ebf190>}, {'loss': 'categorical_crossentropy'}, {'metrics': ['accuracy']}, {'activation': 'softmax'}, {'seed': 55}, {'layers_': [<KerasTensor: shape=(None, 10000) dtype=float32 (created by layer 'input_34')>, <KerasTensor: shape=(None, 32) dtype=float32 (created by layer 'dense_71')>]}, {'i': 0}, {'l_conf': {'nodes': 32, 'activation': 'relu'}}, {'output_tensor': <KerasTensor: shape=(None, 46) dtype=float32 (created by layer 'dense_72')>}, {'model': <keras.engine.functional.Functional object at 0x7ff112054a10>}, {'history': <keras.callbacks.History object at 0x7ff1122280d0>}, {'test_loss': 0.9353554248809814}, {'test_acc': 0.8045414090156555}]\n",
            "test_acc: 0.8045414090156555\n",
            "test_loss: 0.9353554248809814\n",
            "----------------------\n",
            "71/71 [==============================] - 0s 3ms/step - loss: 0.8890 - accuracy: 0.8037\n",
            "Argumentos seleccionados: [{'layers_conf': [{'nodes': 32, 'activation': 'relu'}]}, {'epocs': 15}, {'batch_size': 512}, {'optimizer': <keras.optimizers.optimizer_v2.rmsprop.RMSprop object at 0x7ff111ebf150>}, {'loss': 'categorical_crossentropy'}, {'metrics': ['accuracy']}, {'activation': 'softmax'}, {'seed': 55}, {'layers_': [<KerasTensor: shape=(None, 10000) dtype=float32 (created by layer 'input_35')>, <KerasTensor: shape=(None, 32) dtype=float32 (created by layer 'dense_73')>]}, {'i': 0}, {'l_conf': {'nodes': 32, 'activation': 'relu'}}, {'output_tensor': <KerasTensor: shape=(None, 46) dtype=float32 (created by layer 'dense_74')>}, {'model': <keras.engine.functional.Functional object at 0x7ff1105426d0>}, {'history': <keras.callbacks.History object at 0x7ff111990a10>}, {'test_loss': 0.8890302777290344}, {'test_acc': 0.8036509156227112}]\n",
            "test_acc: 0.8036509156227112\n",
            "test_loss: 0.8890302777290344\n",
            "----------------------\n",
            "71/71 [==============================] - 0s 3ms/step - loss: 0.9376 - accuracy: 0.7903\n",
            "Argumentos seleccionados: [{'layers_conf': [{'nodes': 32, 'activation': 'relu'}]}, {'epocs': 15}, {'batch_size': 1024}, {'optimizer': <keras.optimizers.optimizer_v2.rmsprop.RMSprop object at 0x7ff111ebf7d0>}, {'loss': 'categorical_crossentropy'}, {'metrics': ['accuracy']}, {'activation': 'softmax'}, {'seed': 55}, {'layers_': [<KerasTensor: shape=(None, 10000) dtype=float32 (created by layer 'input_36')>, <KerasTensor: shape=(None, 32) dtype=float32 (created by layer 'dense_75')>]}, {'i': 0}, {'l_conf': {'nodes': 32, 'activation': 'relu'}}, {'output_tensor': <KerasTensor: shape=(None, 46) dtype=float32 (created by layer 'dense_76')>}, {'model': <keras.engine.functional.Functional object at 0x7ff110380d90>}, {'history': <keras.callbacks.History object at 0x7ff110ad6310>}, {'test_loss': 0.9375584721565247}, {'test_acc': 0.7902938723564148}]\n",
            "test_acc: 0.7902938723564148\n",
            "test_loss: 0.9375584721565247\n",
            "----------------------\n",
            "71/71 [==============================] - 0s 4ms/step - loss: 1.0989 - accuracy: 0.7636\n",
            "Argumentos seleccionados: [{'layers_conf': [{'nodes': 32, 'activation': 'relu'}]}, {'epocs': 15}, {'batch_size': 2048}, {'optimizer': <keras.optimizers.optimizer_v2.rmsprop.RMSprop object at 0x7ff111ebf450>}, {'loss': 'categorical_crossentropy'}, {'metrics': ['accuracy']}, {'activation': 'softmax'}, {'seed': 55}, {'layers_': [<KerasTensor: shape=(None, 10000) dtype=float32 (created by layer 'input_37')>, <KerasTensor: shape=(None, 32) dtype=float32 (created by layer 'dense_77')>]}, {'i': 0}, {'l_conf': {'nodes': 32, 'activation': 'relu'}}, {'output_tensor': <KerasTensor: shape=(None, 46) dtype=float32 (created by layer 'dense_78')>}, {'model': <keras.engine.functional.Functional object at 0x7ff10a7b5090>}, {'history': <keras.callbacks.History object at 0x7ff10a6ab190>}, {'test_loss': 1.098917007446289}, {'test_acc': 0.7635797262191772}]\n",
            "test_acc: 0.7635797262191772\n",
            "test_loss: 1.098917007446289\n",
            "----------------------\n"
          ]
        }
      ],
      "metadata": {
        "id": "Oy_BIosc14MN",
        "colab": {
          "base_uri": "https://localhost:8080/"
        },
        "outputId": "dc1d0754-574d-496d-acd6-946920b2c557"
      }
    },
    {
      "cell_type": "code",
      "execution_count": 37,
      "source": [
        "plt.figure(figsize=(16,16)) \n",
        "# \"bo\" is for \"blue dot\"\n",
        "plt.plot(epochs[2:], loss0[2:], 'bo', label='Training loss 8-size-batch. Combinacion 0', alpha=0.75)\n",
        "plt.plot(epochs[2:], loss1[2:], 'ro', label='Training loss 16-size-batch. Combinacion 1', alpha=0.75)\n",
        "plt.plot(epochs[2:], loss2[2:], 'go', label='Training loss 32-size-batch. Combinacion 2', alpha=0.75)\n",
        "plt.plot(epochs[2:], loss3[2:], 'yo', label='Training loss 64-size-batch. Combinacion 3', alpha=0.75)\n",
        "plt.plot(epochs[2:], loss4[2:], 'co', label='Training loss 128-size-batch. Combinacion 4', alpha=0.75)\n",
        "plt.plot(epochs[2:], loss5[2:], 'mo', label='Training loss 256-size-batch. Combinacion 5', alpha=0.75)\n",
        "plt.plot(epochs[2:], loss6[2:], 'ko', label='Training loss 512-size-batch. Combinacion 6', alpha=0.75)\n",
        "plt.plot(epochs[2:], loss7[2:], 'rx', label='Training loss 1024-size-batch. Combinacion 7', alpha=0.75)\n",
        "plt.plot(epochs[2:], loss8[2:], 'gx', label='Training loss 2048-size-batch. Combinacion 8', alpha=0.75)\n",
        "# b is for \"solid blue line\"\n",
        "plt.plot(epochs[2:], val_loss0[2:], 'b', label='Validation loss 8-size-batch', alpha=0.75)\n",
        "plt.plot(epochs[2:], val_loss1[2:], 'r', label='Validation loss 16-size-batch', alpha=0.75)\n",
        "plt.plot(epochs[2:], val_loss2[2:], 'g', label='Validation loss 32-size-batch', alpha=0.75)\n",
        "plt.plot(epochs[2:], val_loss3[2:], 'y', label='Validation loss 64-size-batch', alpha=0.75)\n",
        "plt.plot(epochs[2:], val_loss4[2:], 'c', label='Validation loss 128-size-batch', alpha=0.75)\n",
        "plt.plot(epochs[2:], val_loss5[2:], 'm', label='Validation loss 256-size-batch', alpha=0.75)\n",
        "plt.plot(epochs[2:], val_loss6[2:], 'k', label='Validation loss 512-size-batch', alpha=0.75)\n",
        "plt.plot(epochs[2:], val_loss7[2:], 'r+', label='Validation loss 1024-size-batch', alpha=0.75)\n",
        "plt.plot(epochs[2:], val_loss8[2:], 'g+', label='Validation loss 2048-size-batch', alpha=0.75)\n",
        "plt.title('Training and validation loss con distintos batch-sizes')\n",
        "plt.xlabel('Epochs')\n",
        "plt.ylabel('Loss')\n",
        "plt.legend()\n",
        "plt.show()\n"
      ],
      "outputs": [
        {
          "output_type": "display_data",
          "data": {
            "text/plain": [
              "<Figure size 1152x1152 with 1 Axes>"
            ],
            "image/png": "[encoded data removed]"
          },
          "metadata": {
            "needs_background": "light"
          }
        }
      ],
      "metadata": {
        "colab": {
          "base_uri": "https://localhost:8080/",
          "height": 948
        },
        "id": "xdPLpGsqn7Ro",
        "outputId": "806988e1-8105-4a20-e708-3218e7b6cd85"
      }
    },
    {
      "cell_type": "code",
      "execution_count": 36,
      "source": [
        "for i, h in enumerate([history0, history1, history2, history3, history4, history5, history6, history7, history8]):\n",
        "    epoch_min = np.argmin(h.history[\"val_loss\"])\n",
        "    print(f'----- Combinación {i}: \\nValidation Loss: {h.history[\"val_loss\"][epoch_min]}'\n",
        "            f'\\nTraining Loss: {h.history[\"loss\"][epoch_min]}'\n",
        "            f'\\nAccuracy: {h.history[\"accuracy\"][epoch_min]})'\n",
        "            f'\\nMejor Epoch: {epoch_min}')\n"
      ],
      "outputs": [
        {
          "output_type": "stream",
          "name": "stdout",
          "text": [
            "----- Combinación 0: \n",
            "Validation Loss: 1.152512788772583\n",
            "Training Loss: 1.3887343406677246\n",
            "Accuracy: 0.7032954692840576)\n",
            "Mejor Epoch: 0\n",
            "----- Combinación 1: \n",
            "Validation Loss: 0.9827789664268494\n",
            "Training Loss: 0.5874143838882446\n",
            "Accuracy: 0.8769761919975281)\n",
            "Mejor Epoch: 2\n",
            "----- Combinación 2: \n",
            "Validation Loss: 0.8889188170433044\n",
            "Training Loss: 0.4410998821258545\n",
            "Accuracy: 0.9055889844894409)\n",
            "Mejor Epoch: 3\n",
            "----- Combinación 3: \n",
            "Validation Loss: 0.8720102310180664\n",
            "Training Loss: 0.3928591310977936\n",
            "Accuracy: 0.9162769913673401)\n",
            "Mejor Epoch: 4\n",
            "----- Combinación 4: \n",
            "Validation Loss: 0.8662167191505432\n",
            "Training Loss: 0.3318614661693573\n",
            "Accuracy: 0.9291917085647583)\n",
            "Mejor Epoch: 6\n",
            "----- Combinación 5: \n",
            "Validation Loss: 0.8751446008682251\n",
            "Training Loss: 0.2942087650299072\n",
            "Accuracy: 0.9356490969657898)\n",
            "Mejor Epoch: 9\n",
            "----- Combinación 6: \n",
            "Validation Loss: 0.8830559253692627\n",
            "Training Loss: 0.31304314732551575\n",
            "Accuracy: 0.9338677525520325)\n",
            "Mejor Epoch: 12\n",
            "----- Combinación 7: \n",
            "Validation Loss: 0.9375583529472351\n",
            "Training Loss: 0.44408929347991943\n",
            "Accuracy: 0.9119349718093872)\n",
            "Mejor Epoch: 14\n",
            "----- Combinación 8: \n",
            "Validation Loss: 1.0989168882369995\n",
            "Training Loss: 0.7336629033088684\n",
            "Accuracy: 0.8579381108283997)\n",
            "Mejor Epoch: 14\n"
          ]
        }
      ],
      "metadata": {
        "colab": {
          "base_uri": "https://localhost:8080/"
        },
        "id": "yTDCwPD_Cv0y",
        "outputId": "eb55d172-1098-469b-efb3-89abaa20c882"
      }
    },
    {
      "cell_type": "markdown",
      "source": [
        "Lo que se observa al aumentar el tamaño del batch, es que el algoritmo tarda mas epochs en converger a una solución con el mínimo de pérdida de validación. Este es el caso del batch size de 512, que tarda más épocas en llegar al mínimo de pérdida, que arroja un valor competitivo frente al ganador de batch size 128. Existe un sweatspoot de batch-size entre 128 y 512. Por encima de este rango se observa que la pérdida incrementa y la accuracy empeora.\n",
        "Como conclusión, el batch que menor error arroja es el de 128, entrenado con 6 épocas. En las siguientes pruebas se utilizarán estos valores."
      ],
      "metadata": {
        "id": "rdAHpE1--Ynt"
      }
    },
    {
      "cell_type": "markdown",
      "source": [
        "##Regularización\n",
        "Experimente con diferentes estrategias de regularización (regularización más o menos severa). Quizás tenga que aumentar el tamaño de la red si no notan ningún efecto considerable de la regularización"
      ],
      "metadata": {
        "id": "qv-O7Biq2SDs"
      }
    },
    {
      "cell_type": "code",
      "execution_count": 46,
      "source": [
        "from tensorflow.keras import regularizers\n",
        "\n",
        "combinations = [\n",
        "    {\n",
        "        \"layers_conf\":[\n",
        "            { \"nodes\":32, \"activation\": \"relu\", \"kernel_regularizer\": regularizers.L1L2(l1=1e-5, l2=1e-4)},\n",
        "        ],\n",
        "        \"epocs\": 6,\n",
        "        \"batch_size\": 128,\n",
        "        \"optimizer\": optimizers.RMSprop(learning_rate=0.001), #default value\n",
        "        \"loss\": \"categorical_crossentropy\",\n",
        "        \"metrics\": [\"accuracy\"],\n",
        "        \"activation\": \"softmax\"\n",
        "    },\n",
        "    {\n",
        "        \"layers_conf\":[{ \"nodes\":32, \"activation\": \"relu\", \"kernel_regularizer\": regularizers.L1(l1=0.01)},],\n",
        "        \"epocs\": 6,\n",
        "        \"batch_size\": 128,\n",
        "        \"optimizer\": optimizers.RMSprop(learning_rate=0.001),\n",
        "        \"loss\": \"categorical_crossentropy\",\n",
        "        \"metrics\": [\"accuracy\"],\n",
        "        \"activation\": \"softmax\"\n",
        "    },\n",
        "    {\n",
        "        \"layers_conf\":[{ \"nodes\":32, \"activation\": \"relu\", \"kernel_regularizer\": regularizers.L2(l2=0.01)},],\n",
        "        \"epocs\": 6,\n",
        "        \"batch_size\": 128,\n",
        "        \"optimizer\": optimizers.RMSprop(learning_rate=0.001), #default value\n",
        "        \"loss\": \"categorical_crossentropy\",\n",
        "        \"metrics\": [\"accuracy\"],\n",
        "        \"activation\": \"softmax\"\n",
        "    },    \n",
        "]\n",
        "\n",
        "for comb in combinations:\n",
        "    train_and_test_net(\n",
        "        num_of_features,\n",
        "        num_of_categories,\n",
        "        train_data,\n",
        "        train_labels,\n",
        "        val_data,\n",
        "        val_labels,\n",
        "        ** comb\n",
        "    )\n"
      ],
      "outputs": [
        {
          "output_type": "stream",
          "name": "stdout",
          "text": [
            "71/71 [==============================] - 0s 6ms/step - loss: 0.9360 - accuracy: 0.8085\n",
            "Argumentos seleccionados: [{'layers_conf': [{'nodes': 32, 'activation': 'relu', 'kernel_regularizer': <keras.regularizers.L1L2 object at 0x7ff111aef850>}]}, {'epocs': 6}, {'batch_size': 128}, {'optimizer': <keras.optimizers.optimizer_v2.rmsprop.RMSprop object at 0x7ff111aefa50>}, {'loss': 'categorical_crossentropy'}, {'metrics': ['accuracy']}, {'activation': 'softmax'}, {'seed': 55}, {'layers_': [<KerasTensor: shape=(None, 10000) dtype=float32 (created by layer 'input_63')>, <KerasTensor: shape=(None, 32) dtype=float32 (created by layer 'dense_129')>]}, {'i': 0}, {'l_conf': {'nodes': 32, 'activation': 'relu', 'kernel_regularizer': <keras.regularizers.L1L2 object at 0x7ff111aef850>}}, {'output_tensor': <KerasTensor: shape=(None, 46) dtype=float32 (created by layer 'dense_130')>}, {'model': <keras.engine.functional.Functional object at 0x7ff108ce9610>}, {'history': <keras.callbacks.History object at 0x7ff108f6e1d0>}, {'test_loss': 0.9360170960426331}, {'test_acc': 0.8085485100746155}]\n",
            "test_acc: 0.8085485100746155\n",
            "test_loss: 0.9360170960426331\n",
            "----------------------\n",
            "71/71 [==============================] - 0s 5ms/step - loss: 3.6770 - accuracy: 0.5521\n",
            "Argumentos seleccionados: [{'layers_conf': [{'nodes': 32, 'activation': 'relu', 'kernel_regularizer': <keras.regularizers.L1 object at 0x7ff10720f910>}]}, {'epocs': 6}, {'batch_size': 128}, {'optimizer': <keras.optimizers.optimizer_v2.rmsprop.RMSprop object at 0x7ff111aef9d0>}, {'loss': 'categorical_crossentropy'}, {'metrics': ['accuracy']}, {'activation': 'softmax'}, {'seed': 55}, {'layers_': [<KerasTensor: shape=(None, 10000) dtype=float32 (created by layer 'input_64')>, <KerasTensor: shape=(None, 32) dtype=float32 (created by layer 'dense_131')>]}, {'i': 0}, {'l_conf': {'nodes': 32, 'activation': 'relu', 'kernel_regularizer': <keras.regularizers.L1 object at 0x7ff10720f910>}}, {'output_tensor': <KerasTensor: shape=(None, 46) dtype=float32 (created by layer 'dense_132')>}, {'model': <keras.engine.functional.Functional object at 0x7ff108f8b390>}, {'history': <keras.callbacks.History object at 0x7ff109629f50>}, {'test_loss': 3.676974296569824}, {'test_acc': 0.5520926117897034}]\n",
            "test_acc: 0.5520926117897034\n",
            "test_loss: 3.676974296569824\n",
            "----------------------\n",
            "71/71 [==============================] - 0s 4ms/step - loss: 1.3517 - accuracy: 0.7462\n",
            "Argumentos seleccionados: [{'layers_conf': [{'nodes': 32, 'activation': 'relu', 'kernel_regularizer': <keras.regularizers.L2 object at 0x7ff1090123d0>}]}, {'epocs': 6}, {'batch_size': 128}, {'optimizer': <keras.optimizers.optimizer_v2.rmsprop.RMSprop object at 0x7ff1091ce650>}, {'loss': 'categorical_crossentropy'}, {'metrics': ['accuracy']}, {'activation': 'softmax'}, {'seed': 55}, {'layers_': [<KerasTensor: shape=(None, 10000) dtype=float32 (created by layer 'input_65')>, <KerasTensor: shape=(None, 32) dtype=float32 (created by layer 'dense_133')>]}, {'i': 0}, {'l_conf': {'nodes': 32, 'activation': 'relu', 'kernel_regularizer': <keras.regularizers.L2 object at 0x7ff1090123d0>}}, {'output_tensor': <KerasTensor: shape=(None, 46) dtype=float32 (created by layer 'dense_134')>}, {'model': <keras.engine.functional.Functional object at 0x7ff1073046d0>}, {'history': <keras.callbacks.History object at 0x7ff107070550>}, {'test_loss': 1.3517242670059204}, {'test_acc': 0.7462155222892761}]\n",
            "test_acc: 0.7462155222892761\n",
            "test_loss: 1.3517242670059204\n",
            "----------------------\n"
          ]
        }
      ],
      "metadata": {
        "id": "FJMmla3I2qeF",
        "colab": {
          "base_uri": "https://localhost:8080/"
        },
        "outputId": "a9090d22-c800-4ca9-e6fe-c6d7fefa6c3a"
      }
    },
    {
      "cell_type": "code",
      "execution_count": 47,
      "source": [
        "# Dropout experiment\n",
        "\n",
        "combinations = [\n",
        "    {\n",
        "        \"layers_conf\":[\n",
        "            { \n",
        "                \"nodes\":32,\n",
        "                \"activation\": \"relu\",\n",
        "                \"kernel_regularizer\": regularizers.L1L2(l1=1e-5, l2=1e-4),\n",
        "                \"dropout\": 0.5\n",
        "            },\n",
        "        ],\n",
        "        \"epocs\": 6,\n",
        "        \"batch_size\": 128,\n",
        "        \"optimizer\": optimizers.RMSprop(learning_rate=0.001), #default value\n",
        "        \"loss\": \"categorical_crossentropy\",\n",
        "        \"metrics\": [\"accuracy\"],\n",
        "        \"activation\": \"softmax\"\n",
        "    },\n",
        "    {\n",
        "        \"layers_conf\":[\n",
        "            { \n",
        "                \"nodes\":32,\n",
        "                \"activation\": \"relu\",\n",
        "                \"kernel_regularizer\": regularizers.L1L2(l1=1e-5, l2=1e-4),\n",
        "                \"dropout\": 0.25\n",
        "            },\n",
        "        ],\n",
        "        \"epocs\": 6,\n",
        "        \"batch_size\": 128,\n",
        "        \"optimizer\": optimizers.RMSprop(learning_rate=0.001), #default value\n",
        "        \"loss\": \"categorical_crossentropy\",\n",
        "        \"metrics\": [\"accuracy\"],\n",
        "        \"activation\": \"softmax\"\n",
        "    },{\n",
        "        \"layers_conf\":[\n",
        "            { \n",
        "                \"nodes\":32,\n",
        "                \"activation\": \"relu\",\n",
        "                \"kernel_regularizer\": regularizers.L1L2(l1=1e-5, l2=1e-4),\n",
        "                \"dropout\": 0.1\n",
        "            },\n",
        "        ],\n",
        "        \"epocs\": 6,\n",
        "        \"batch_size\": 128,\n",
        "        \"optimizer\": optimizers.RMSprop(learning_rate=0.001), #default value\n",
        "        \"loss\": \"categorical_crossentropy\",\n",
        "        \"metrics\": [\"accuracy\"],\n",
        "        \"activation\": \"softmax\"\n",
        "    },\n",
        "    {\n",
        "        \"layers_conf\":[\n",
        "            { \n",
        "                \"nodes\":32,\n",
        "                \"activation\": \"relu\",\n",
        "                \"kernel_regularizer\": regularizers.L1L2(l1=1e-5, l2=1e-4),\n",
        "                \"dropout\": 0.05\n",
        "            },\n",
        "        ],\n",
        "        \"epocs\": 6,\n",
        "        \"batch_size\": 128,\n",
        "        \"optimizer\": optimizers.RMSprop(learning_rate=0.001), #default value\n",
        "        \"loss\": \"categorical_crossentropy\",\n",
        "        \"metrics\": [\"accuracy\"],\n",
        "        \"activation\": \"softmax\"\n",
        "    }\n",
        "]\n",
        "\n",
        "for comb in combinations:\n",
        "    train_and_test_net(\n",
        "        num_of_features,\n",
        "        num_of_categories,\n",
        "        train_data,\n",
        "        train_labels,\n",
        "        val_data,\n",
        "        val_labels,\n",
        "        ** comb\n",
        "    )\n"
      ],
      "outputs": [
        {
          "output_type": "stream",
          "name": "stdout",
          "text": [
            "71/71 [==============================] - 0s 5ms/step - loss: 1.0772 - accuracy: 0.7671\n",
            "Argumentos seleccionados: [{'layers_conf': [{'nodes': 32, 'activation': 'relu', 'kernel_regularizer': <keras.regularizers.L1L2 object at 0x7ff1070bd690>, 'dropout': 0.5}]}, {'epocs': 6}, {'batch_size': 128}, {'optimizer': <keras.optimizers.optimizer_v2.rmsprop.RMSprop object at 0x7ff1070bd6d0>}, {'loss': 'categorical_crossentropy'}, {'metrics': ['accuracy']}, {'activation': 'softmax'}, {'seed': 55}, {'layers_': [<KerasTensor: shape=(None, 10000) dtype=float32 (created by layer 'input_66')>, <KerasTensor: shape=(None, 32) dtype=float32 (created by layer 'dropout_13')>]}, {'i': 0}, {'l_conf': {'nodes': 32, 'activation': 'relu', 'kernel_regularizer': <keras.regularizers.L1L2 object at 0x7ff1070bd690>, 'dropout': 0.5}}, {'x': <KerasTensor: shape=(None, 32) dtype=float32 (created by layer 'dropout_13')>}, {'output_tensor': <KerasTensor: shape=(None, 46) dtype=float32 (created by layer 'dense_136')>}, {'model': <keras.engine.functional.Functional object at 0x7ff106567d10>}, {'history': <keras.callbacks.History object at 0x7ff109355190>}, {'test_loss': 1.0772037506103516}, {'test_acc': 0.767141580581665}]\n",
            "test_acc: 0.767141580581665\n",
            "test_loss: 1.0772037506103516\n",
            "----------------------\n",
            "71/71 [==============================] - 0s 5ms/step - loss: 0.9684 - accuracy: 0.7934\n",
            "Argumentos seleccionados: [{'layers_conf': [{'nodes': 32, 'activation': 'relu', 'kernel_regularizer': <keras.regularizers.L1L2 object at 0x7ff1070bd750>, 'dropout': 0.25}]}, {'epocs': 6}, {'batch_size': 128}, {'optimizer': <keras.optimizers.optimizer_v2.rmsprop.RMSprop object at 0x7ff1070bd710>}, {'loss': 'categorical_crossentropy'}, {'metrics': ['accuracy']}, {'activation': 'softmax'}, {'seed': 55}, {'layers_': [<KerasTensor: shape=(None, 10000) dtype=float32 (created by layer 'input_67')>, <KerasTensor: shape=(None, 32) dtype=float32 (created by layer 'dropout_14')>]}, {'i': 0}, {'l_conf': {'nodes': 32, 'activation': 'relu', 'kernel_regularizer': <keras.regularizers.L1L2 object at 0x7ff1070bd750>, 'dropout': 0.25}}, {'x': <KerasTensor: shape=(None, 32) dtype=float32 (created by layer 'dropout_14')>}, {'output_tensor': <KerasTensor: shape=(None, 46) dtype=float32 (created by layer 'dense_138')>}, {'model': <keras.engine.functional.Functional object at 0x7ff10970be90>}, {'history': <keras.callbacks.History object at 0x7ff1096e1590>}, {'test_loss': 0.9683617353439331}, {'test_acc': 0.7934104800224304}]\n",
            "test_acc: 0.7934104800224304\n",
            "test_loss: 0.9683617353439331\n",
            "----------------------\n",
            "71/71 [==============================] - 0s 4ms/step - loss: 0.9429 - accuracy: 0.8050\n",
            "Argumentos seleccionados: [{'layers_conf': [{'nodes': 32, 'activation': 'relu', 'kernel_regularizer': <keras.regularizers.L1L2 object at 0x7ff1070bd7d0>, 'dropout': 0.1}]}, {'epocs': 6}, {'batch_size': 128}, {'optimizer': <keras.optimizers.optimizer_v2.rmsprop.RMSprop object at 0x7ff1070bd790>}, {'loss': 'categorical_crossentropy'}, {'metrics': ['accuracy']}, {'activation': 'softmax'}, {'seed': 55}, {'layers_': [<KerasTensor: shape=(None, 10000) dtype=float32 (created by layer 'input_68')>, <KerasTensor: shape=(None, 32) dtype=float32 (created by layer 'dropout_15')>]}, {'i': 0}, {'l_conf': {'nodes': 32, 'activation': 'relu', 'kernel_regularizer': <keras.regularizers.L1L2 object at 0x7ff1070bd7d0>, 'dropout': 0.1}}, {'x': <KerasTensor: shape=(None, 32) dtype=float32 (created by layer 'dropout_15')>}, {'output_tensor': <KerasTensor: shape=(None, 46) dtype=float32 (created by layer 'dense_140')>}, {'model': <keras.engine.functional.Functional object at 0x7ff10940ee10>}, {'history': <keras.callbacks.History object at 0x7ff108fb7b50>}, {'test_loss': 0.9429470896720886}, {'test_acc': 0.8049866557121277}]\n",
            "test_acc: 0.8049866557121277\n",
            "test_loss: 0.9429470896720886\n",
            "----------------------\n",
            "71/71 [==============================] - 0s 5ms/step - loss: 0.9388 - accuracy: 0.8081\n",
            "Argumentos seleccionados: [{'layers_conf': [{'nodes': 32, 'activation': 'relu', 'kernel_regularizer': <keras.regularizers.L1L2 object at 0x7ff1070bd850>, 'dropout': 0.05}]}, {'epocs': 6}, {'batch_size': 128}, {'optimizer': <keras.optimizers.optimizer_v2.rmsprop.RMSprop object at 0x7ff1070bd810>}, {'loss': 'categorical_crossentropy'}, {'metrics': ['accuracy']}, {'activation': 'softmax'}, {'seed': 55}, {'layers_': [<KerasTensor: shape=(None, 10000) dtype=float32 (created by layer 'input_69')>, <KerasTensor: shape=(None, 32) dtype=float32 (created by layer 'dropout_16')>]}, {'i': 0}, {'l_conf': {'nodes': 32, 'activation': 'relu', 'kernel_regularizer': <keras.regularizers.L1L2 object at 0x7ff1070bd850>, 'dropout': 0.05}}, {'x': <KerasTensor: shape=(None, 32) dtype=float32 (created by layer 'dropout_16')>}, {'output_tensor': <KerasTensor: shape=(None, 46) dtype=float32 (created by layer 'dense_142')>}, {'model': <keras.engine.functional.Functional object at 0x7ff109610110>}, {'history': <keras.callbacks.History object at 0x7ff1095de090>}, {'test_loss': 0.9388052821159363}, {'test_acc': 0.8081033229827881}]\n",
            "test_acc: 0.8081033229827881\n",
            "test_loss: 0.9388052821159363\n",
            "----------------------\n"
          ]
        }
      ],
      "metadata": {
        "colab": {
          "base_uri": "https://localhost:8080/"
        },
        "id": "Qd01ns2lYNaF",
        "outputId": "95bf958c-182f-4f0a-80f6-542279d74b28"
      }
    },
    {
      "cell_type": "markdown",
      "source": [
        "Se puede observar que una regularización de tipo L1+L2  con coeficientes de (l1=1e-5, l2=1e-4) mejora levemente la precisión que se venia obteniendo. Luego al combinarlo con un leve dropout del 5% se logra nuevamente una mejora tanto en accuracy como en loss."
      ],
      "metadata": {
        "id": "YFpvDmxhAiiZ"
      }
    },
    {
      "cell_type": "markdown",
      "source": [
        "## Conclusiones\n",
        "Concluya su diseño de red justificando la elección de red. Es importante que se base en los experimentos realizados."
      ],
      "metadata": {
        "id": "MZ397UEB2p2N"
      }
    },
    {
      "cell_type": "markdown",
      "source": [
        "Luego de realizar las diversas pruebas de hiperparámetros, se puede concluir que el máximo de precisión es de 0.8081 con un mínimo de pérdida de 0.9388. Los parámetros que mejor resultaron fueron:\n",
        "\n",
        "*   Batch size de 128\n",
        "*   6 épocas de entrenamiento\n",
        "*   Una arquitectura de una sola copa, con 32 nodos y activación de tipo ReLU.\n",
        "*   Respecto a técnicas de regularización L1L2 funcionó de buena manera , cuando se lo combinó con un leve dropout del 5%.\n",
        "*   RMSProp resultó ser la mejor función de optimización, combinada con un learning rate de 0.001.\n",
        "\n"
      ],
      "metadata": {
        "id": "VJnM9XroBI2X"
      }
    }
  ]
}